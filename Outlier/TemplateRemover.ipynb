{
 "cells": [
  {
   "cell_type": "markdown",
   "id": "f68605ec",
   "metadata": {},
   "source": [
    "该文档用于短路、断路、经典异常的模式识别 & 匹配测试"
   ]
  },
  {
   "cell_type": "markdown",
   "id": "9f75ffd6",
   "metadata": {},
   "source": [
    "# Import"
   ]
  },
  {
   "cell_type": "code",
   "execution_count": null,
   "id": "0758cc1d",
   "metadata": {
    "vscode": {
     "languageId": "plaintext"
    }
   },
   "outputs": [],
   "source": [
    "# "
   ]
  }
 ],
 "metadata": {
  "language_info": {
   "name": "python"
  }
 },
 "nbformat": 4,
 "nbformat_minor": 5
}
