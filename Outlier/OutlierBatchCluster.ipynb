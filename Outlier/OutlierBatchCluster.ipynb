{
 "cells": [
  {
   "cell_type": "markdown",
   "id": "9745244e",
   "metadata": {},
   "source": [
    "# Note\n",
    "\n",
    "* Import\n",
    "* Filsys\n",
    "* Manually Cluster"
   ]
  },
  {
   "cell_type": "markdown",
   "id": "b802dbf1",
   "metadata": {},
   "source": [
    "# Import"
   ]
  },
  {
   "cell_type": "code",
   "execution_count": 1,
   "id": "4aaaf7b5",
   "metadata": {},
   "outputs": [],
   "source": [
    "# from ..HETSFileHelper import gatherCSV, readChannel, EIS_recal_ver02\n",
    "import os\n",
    "import re\n",
    "import gc\n",
    "import sys\n",
    "from loguru import logger\n",
    "\n",
    "import matplotlib.pyplot as plt \n",
    "from matplotlib.collections import LineCollection\n",
    "from matplotlib.widgets import LassoSelector\n",
    "from matplotlib.path import Path\n",
    "from matplotlib.colors import ListedColormap\n",
    "\n",
    "from datetime import datetime\n",
    "\n",
    "from sklearn.decomposition import PCA\n",
    "\n",
    "from sklearn.cluster import MiniBatchKMeans\n",
    "from sklearn.preprocessing import StandardScaler\n",
    "import hdbscan\n",
    "\n",
    "import numpy as np\n",
    "import torch\n",
    "\n",
    "\n",
    "sys.path.insert(0, os.path.abspath(os.path.join(os.getcwd(), '..')))\n",
    "from Outlier import OutlierDetection\n",
    "from EISGPR import Interpolation\n",
    "\n",
    "\n",
    "%matplotlib qt"
   ]
  },
  {
   "cell_type": "markdown",
   "id": "f96df1da",
   "metadata": {},
   "source": [
    "# Filesys"
   ]
  },
  {
   "cell_type": "code",
   "execution_count": 2,
   "id": "04eb77af",
   "metadata": {},
   "outputs": [],
   "source": [
    "def SearchELE(rootPath, ele_pattern = re.compile(r\"(.+?)_归档\")):\n",
    "    '''==================================================\n",
    "        Search all electrode directories in the rootPath\n",
    "        Parameter: \n",
    "            rootPath: current search path\n",
    "            ele_pattern: electrode dir name patten\n",
    "        Returen:\n",
    "            ele_list: list of electrode directories\n",
    "        ==================================================\n",
    "    '''\n",
    "    ele_list = []\n",
    "    for i in os.listdir(rootPath):\n",
    "        _path = os.path.join(rootPath, i)\n",
    "        if os.path.isdir(_path):\n",
    "            match_ele = ele_pattern.match(i)\n",
    "            if match_ele:\n",
    "                ele_list.append([_path, match_ele.group(1)])\n",
    "            else:\n",
    "                ele_list.extend(SearchELE(_path, ele_pattern))\n",
    "\n",
    "    return ele_list"
   ]
  },
  {
   "cell_type": "code",
   "execution_count": null,
   "id": "49ed72b1",
   "metadata": {},
   "outputs": [],
   "source": []
  },
  {
   "cell_type": "markdown",
   "id": "133b8d2b",
   "metadata": {},
   "source": [
    "# Manually Cluster"
   ]
  },
  {
   "cell_type": "markdown",
   "id": "8f257fad",
   "metadata": {},
   "source": [
    "## Almost Electrode"
   ]
  },
  {
   "cell_type": "markdown",
   "id": "f8980c9f",
   "metadata": {},
   "source": [
    "### Input data"
   ]
  },
  {
   "cell_type": "code",
   "execution_count": 5,
   "id": "ee10b988",
   "metadata": {},
   "outputs": [
    {
     "name": "stderr",
     "output_type": "stream",
     "text": [
      "\u001b[32m2025-05-16 22:57:44.475\u001b[0m | \u001b[1mINFO    \u001b[0m | \u001b[36m__main__\u001b[0m:\u001b[36m<module>\u001b[0m:\u001b[36m7\u001b[0m - \u001b[1mSearch in D:/Baihm/EISNN/Invivo and find 006 electrodes\u001b[0m\n"
     ]
    }
   ],
   "source": [
    "# rootPath = \"D:/Baihm/EISNN/Archive/\"\n",
    "# rootPath = \"D:/Baihm/EISNN/Archive_New/\"\n",
    "rootPath = \"D:/Baihm/EISNN/Invivo\"\n",
    "# ele_list = SearchELE(rootPath)\n",
    "ele_list = SearchELE(rootPath, ele_pattern = re.compile(r\"(.+?)_Ver02\"))\n",
    "n_ele = len(ele_list)\n",
    "logger.info(f\"Search in {rootPath} and find {n_ele:03d} electrodes\")"
   ]
  },
  {
   "cell_type": "code",
   "execution_count": null,
   "id": "1861fdf4",
   "metadata": {},
   "outputs": [
    {
     "name": "stderr",
     "output_type": "stream",
     "text": [
      "\u001b[32m2025-05-16 22:57:49.300\u001b[0m | \u001b[1mINFO    \u001b[0m | \u001b[36m__main__\u001b[0m:\u001b[36m<module>\u001b[0m:\u001b[36m32\u001b[0m - \u001b[1mELE [0/6]: D:/Baihm/EISNN/Invivo\\S5877_Ver02\u001b[0m\n",
      "\u001b[32m2025-05-16 22:57:51.210\u001b[0m | \u001b[1mINFO    \u001b[0m | \u001b[36m__main__\u001b[0m:\u001b[36m<module>\u001b[0m:\u001b[36m32\u001b[0m - \u001b[1mELE [1/6]: D:/Baihm/EISNN/Invivo\\S6005_Ver02\u001b[0m\n",
      "\u001b[32m2025-05-16 22:57:53.012\u001b[0m | \u001b[1mINFO    \u001b[0m | \u001b[36m__main__\u001b[0m:\u001b[36m<module>\u001b[0m:\u001b[36m32\u001b[0m - \u001b[1mELE [2/6]: D:/Baihm/EISNN/Invivo\\S6006_Ver02\u001b[0m\n",
      "\u001b[32m2025-05-16 22:57:54.506\u001b[0m | \u001b[1mINFO    \u001b[0m | \u001b[36m__main__\u001b[0m:\u001b[36m<module>\u001b[0m:\u001b[36m32\u001b[0m - \u001b[1mELE [3/6]: D:/Baihm/EISNN/Invivo\\S6072_Ver02\u001b[0m\n",
      "\u001b[32m2025-05-16 22:57:56.219\u001b[0m | \u001b[1mINFO    \u001b[0m | \u001b[36m__main__\u001b[0m:\u001b[36m<module>\u001b[0m:\u001b[36m32\u001b[0m - \u001b[1mELE [4/6]: D:/Baihm/EISNN/Invivo\\S6106_Ver02\u001b[0m\n",
      "\u001b[32m2025-05-16 22:57:56.758\u001b[0m | \u001b[1mINFO    \u001b[0m | \u001b[36m__main__\u001b[0m:\u001b[36m<module>\u001b[0m:\u001b[36m32\u001b[0m - \u001b[1mELE [5/6]: D:/Baihm/EISNN/Invivo\\S6175_Ver02\u001b[0m\n",
      "\u001b[32m2025-05-16 22:57:56.805\u001b[0m | \u001b[1mINFO    \u001b[0m | \u001b[36m__main__\u001b[0m:\u001b[36m<module>\u001b[0m:\u001b[36m76\u001b[0m - \u001b[1mTotal 9406 data points from 6 electrodes\u001b[0m\n"
     ]
    },
    {
     "data": {
      "text/plain": [
       "59"
      ]
     },
     "execution_count": 6,
     "metadata": {},
     "output_type": "execute_result"
    }
   ],
   "source": [
    "# 首先我们把128/128看似完全没问题的这部分电极拿出来做聚类看看\n",
    "# 数据量也比较小，跑起来应该会更快\n",
    "\n",
    "# DATASET_SUFFIX = \"Outlier_Ver03\"\n",
    "DATASET_SUFFIX = \"Outlier_Ver04\"\n",
    "\n",
    "almost_start_list = []\n",
    "almost_start_id_list = []\n",
    "almost_data_list = []\n",
    "almost_id_list = []\n",
    "\n",
    "n_avaliable = 0\n",
    "\n",
    "freq_list = np.linspace(0,5000-1,101,dtype=int, endpoint=True)\n",
    "# freq_list = freq_list[::-1]\n",
    "\n",
    "for i in range(n_ele):\n",
    "# for i in range(3):\n",
    "    fd_pt = os.path.join(ele_list[i][0], DATASET_SUFFIX, f\"{ele_list[i][1]}_{DATASET_SUFFIX}.pt\")\n",
    "    if not os.path.exists(fd_pt):\n",
    "        # logger.warning(f\"{fd_pt} does not exist\")\n",
    "        continue\n",
    "    data_pt = torch.load(fd_pt, weights_only=False)\n",
    "    _meta_group = data_pt[\"meta_group\"]\n",
    "    _data_group = data_pt[\"data_group\"]\n",
    "\n",
    "    n_day       = _meta_group[\"n_day\"]\n",
    "    n_ch        = _meta_group[\"n_ch\"]\n",
    "    n_valid_ch  = len(_data_group[\"Channels\"])\n",
    "\n",
    "\n",
    "    logger.info(f\"ELE [{i}/{n_ele}]: {ele_list[i][0]}\")\n",
    "\n",
    "    n_avaliable = n_avaliable + 1\n",
    "\n",
    "    # Iteration by channel\n",
    "    for j in _data_group['Channels']:\n",
    "        eis_seq = _data_group[j][\"eis_seq\"]\n",
    "        _ch_data = _data_group[j][\"chData\"]\n",
    "        _ch_data = _ch_data[eis_seq,:,:]\n",
    "        _ch_data_log = np.log(_ch_data[:,1,:] + 1j*_ch_data[:,2,:])\n",
    "        _ch_data[:,1,:] = np.real(_ch_data_log)\n",
    "        _ch_data[:,2,:] = np.imag(_ch_data_log)\n",
    "        if _ch_data.shape[2] == 5000:\n",
    "            _ch_data = np.hstack((_ch_data[:,1,freq_list],_ch_data[:,2,freq_list]))\n",
    "        else:\n",
    "            _ch_data = np.hstack((_ch_data[:,1,:],_ch_data[:,2,:]))\n",
    "        almost_data_list.append(_ch_data)\n",
    "        almost_start_list.append(_ch_data[0,:])\n",
    "\n",
    "\n",
    "\n",
    "        _ch_id = j\n",
    "\n",
    "        _id = [i, _ch_id] * np.shape(_ch_data)[0]\n",
    "        _id = np.array(_id).reshape(-1,2)\n",
    "\n",
    "        eis_cluster = _data_group[j]['eis_cluster']\n",
    "        _id = np.hstack((_id, eis_cluster.reshape(-1,1)))\n",
    "        almost_id_list.append(_id)\n",
    "        almost_start_id_list.append(_id[0,:])\n",
    "\n",
    "\n",
    "        # _ch_id = j\n",
    "\n",
    "        # _id = [i, _ch_id] * np.shape(_ch_data)[0]\n",
    "        # _id = np.array(_id).reshape(-1,2)\n",
    "        # almost_id_list.append(_id)\n",
    "        # almost_start_id_list.append(_id[0,:])\n",
    "\n",
    "almost_data_list = np.vstack(almost_data_list)\n",
    "almost_id_list = np.vstack(almost_id_list)\n",
    "almost_start_list = np.vstack(almost_start_list)\n",
    "almost_start_id_list = np.vstack(almost_start_id_list)\n",
    "\n",
    "logger.info(f\"Total {almost_data_list.shape[0]} data points from {n_avaliable} electrodes\")\n",
    "\n",
    "del data_pt, _meta_group, _data_group, _ch_data\n",
    "gc.collect()\n",
    "\n"
   ]
  },
  {
   "cell_type": "markdown",
   "id": "498bdc75",
   "metadata": {},
   "source": [
    "### PCA"
   ]
  },
  {
   "cell_type": "code",
   "execution_count": 17,
   "id": "3f93958c",
   "metadata": {},
   "outputs": [],
   "source": [
    "_pca_m = PCA(n_components = 10)\n",
    "_scale = StandardScaler()\n",
    "_data_norm = _scale.fit_transform(almost_data_list)\n",
    "_pca_data = _pca_m.fit_transform(_data_norm)\n",
    "\n",
    "_data_norm = _scale.transform(almost_start_list)\n",
    "_pca_start = _pca_m.transform(_data_norm)"
   ]
  },
  {
   "cell_type": "code",
   "execution_count": 18,
   "id": "a851a7d4",
   "metadata": {},
   "outputs": [
    {
     "data": {
      "text/plain": [
       "Text(0.5, 1.0, 'PCA')"
      ]
     },
     "execution_count": 18,
     "metadata": {},
     "output_type": "execute_result"
    }
   ],
   "source": [
    "\n",
    "cmap = plt.colormaps.get_cmap(\"rainbow_r\")\n",
    "_id_max = almost_id_list[:,0].max()\n",
    "\n",
    "plt.figure(figsize=(9,9))\n",
    "# plt.scatter(_pca_data[:,0],_pca_data[:,1], color = cmap(almost_id_list[:,0]/_id_max),s=0.1)\n",
    "plt.scatter(_pca_data[:,0],_pca_data[:,1],s=0.01)\n",
    "plt.gca().set_aspect('equal', adjustable='box')\n",
    "plt.title('PCA')\n"
   ]
  },
  {
   "cell_type": "code",
   "execution_count": 7,
   "id": "1b34b7f1",
   "metadata": {},
   "outputs": [
    {
     "data": {
      "text/plain": [
       "Text(0.5, 1.0, 'PCA')"
      ]
     },
     "execution_count": 7,
     "metadata": {},
     "output_type": "execute_result"
    }
   ],
   "source": [
    "\n",
    "\n",
    "\n",
    "cmap = plt.colormaps.get_cmap(\"rainbow_r\")\n",
    "_id_max = almost_id_list[:,0].max()\n",
    "\n",
    "plt.figure()\n",
    "plt.scatter(_pca_data[:,0],_pca_data[:,1], color = 'lightgray', s=0.1)\n",
    "# plt.scatter(_pca_start[:,0],_pca_start[:,1], color = cmap(almost_start_id_list[:,0]/_id_max),s=0.1)\n",
    "plt.scatter(_pca_start[:,0],_pca_start[:,1],s=0.001)\n",
    "plt.title('PCA')\n"
   ]
  },
  {
   "cell_type": "markdown",
   "id": "9758e220",
   "metadata": {},
   "source": [
    "#### PC eigenValue"
   ]
  },
  {
   "cell_type": "code",
   "execution_count": 8,
   "id": "00c674d1",
   "metadata": {},
   "outputs": [],
   "source": [
    "# 获取每个主成分的解释方差比（即贡献率）\n",
    "explained_var = _pca_m.explained_variance_ratio_\n",
    "components = np.arange(1, len(explained_var) + 1)\n",
    "\n",
    "# 绘图\n",
    "plt.figure(figsize=(6, 6))\n",
    "bars = plt.bar(components, explained_var, color='skyblue')\n",
    "\n",
    "# 在每个柱子上标注数值（百分比形式）\n",
    "for bar, var in zip(bars, explained_var):\n",
    "    yval = bar.get_height()\n",
    "    plt.text(bar.get_x() + bar.get_width()/2, yval + 0.005, f'{var*100:.2f}%', \n",
    "             ha='center', va='bottom', fontsize=10)\n",
    "\n",
    "plt.xticks(components)\n",
    "plt.xlabel(\"Principal Component\")\n",
    "plt.ylabel(\"Explained Variance Ratio\")\n",
    "plt.title(\"PCA Explained Variance per Component\")\n",
    "plt.grid(axis='y', linestyle='--', alpha=0.5)\n",
    "plt.tight_layout()\n",
    "plt.show()"
   ]
  },
  {
   "cell_type": "markdown",
   "id": "51e419ee",
   "metadata": {},
   "source": [
    "### LassoSelector"
   ]
  },
  {
   "cell_type": "code",
   "execution_count": 9,
   "id": "ab7aa72f",
   "metadata": {},
   "outputs": [],
   "source": [
    "\n",
    "\n",
    "# === 数据准备 ===\n",
    "lasso_labels = np.full(_pca_data.shape[0], -1)\n",
    "current_label = 0\n",
    "label_history = []\n",
    "\n",
    "\n"
   ]
  },
  {
   "cell_type": "code",
   "execution_count": 21,
   "id": "3d2a93bb",
   "metadata": {},
   "outputs": [
    {
     "name": "stdout",
     "output_type": "stream",
     "text": [
      "[-1  0  1  4  5  6  7]\n"
     ]
    }
   ],
   "source": [
    "lasso_data = _pca_data[:,:2]\n",
    "\n",
    "# === 可调色板（支持最多10类）===\n",
    "color_list = ['lightgray', 'red', 'blue', 'green', 'orange', 'purple', 'cyan', 'magenta', 'brown', 'yellow']\n",
    "cmap = ListedColormap(color_list)\n",
    "# cmap = plt.colormaps.get_cmap('tab20c_r')\n",
    "\n",
    "# === 参数状态 ===\n",
    "mode = \"new\"  # 默认模式：new/add/erase\n",
    "add_target = 0  # 添加模式时指定的目标簇编号\n",
    "\n",
    "# === 画图 ===\n",
    "fig, ax = plt.subplots()\n",
    "pts = ax.scatter(lasso_data[:, 0], lasso_data[:, 1], c='lightgray', s=0.05)\n",
    "plt.title(\"Lasso Cluster\")\n",
    "\n",
    "def update_colors():\n",
    "    color_indices = np.where(lasso_labels == -1, 0, lasso_labels%8 + 1)\n",
    "    pts.set_facecolor(cmap(color_indices))\n",
    "    fig.canvas.draw_idle()\n",
    "\n",
    "def on_select(verts):\n",
    "    global current_label, lasso_labels, label_history\n",
    "    path = Path(verts)\n",
    "    ind = np.nonzero(path.contains_points(lasso_data))[0]\n",
    "    \n",
    "    # 保存当前状态以供撤销\n",
    "    label_history.append(lasso_labels.copy())\n",
    "\n",
    "    # 根据模式操作标签\n",
    "    if mode == \"new\":\n",
    "        lasso_labels[ind] = current_label\n",
    "        # print(f\"→ 新建簇 {current_label}, 包含 {len(ind)} 个点\")\n",
    "        current_label += 1\n",
    "    elif mode == \"add\":\n",
    "        lasso_labels[ind] = add_target\n",
    "        # print(f\"→ 添加到簇 {add_target}, 包含 {len(ind)} 个点\")\n",
    "    elif mode == \"erase\":\n",
    "        lasso_labels[ind] = -1\n",
    "        # print(f\"→ 反选，{len(ind)} 个点被置为未分簇\")\n",
    "\n",
    "    update_colors()\n",
    "update_colors()\n",
    "\n",
    "# === Lasso 绑定 ===\n",
    "lasso = LassoSelector(ax, on_select)\n",
    "\n",
    "# === 按键绑定 ===\n",
    "def on_key(event):\n",
    "    global mode, add_target, current_label, lasso_labels\n",
    "    if event.key == 'n':\n",
    "        mode = 'new'\n",
    "    elif event.key == 'a':\n",
    "        mode = 'add'\n",
    "    elif event.key == 'e':\n",
    "        mode = 'erase'\n",
    "    elif event.key == 'z':\n",
    "        if label_history:\n",
    "            lasso_labels[:] = label_history.pop()\n",
    "            update_colors()\n",
    "        else:\n",
    "            pass\n",
    "    elif mode == 'add' and event.key.isdigit():\n",
    "        add_target = int(event.key)\n",
    "\n",
    "\n",
    "fig.canvas.mpl_connect('key_press_event', on_key)\n",
    "\n",
    "plt.show()\n",
    "\n",
    "print(np.unique(lasso_labels))\n"
   ]
  },
  {
   "cell_type": "markdown",
   "id": "1191d7ae",
   "metadata": {},
   "source": [
    "### Cluster Plot"
   ]
  },
  {
   "cell_type": "code",
   "execution_count": 20,
   "id": "a42c4b49",
   "metadata": {},
   "outputs": [],
   "source": [
    "_n = int((len(np.unique(lasso_labels))-1) / 5) + 1\n",
    "\n",
    "if _n == 1:\n",
    "    fig,axis = plt.subplots(1,len(np.unique(lasso_labels)))\n",
    "    # fig,axis = plt.subplots(len(np.unique(lasso_labels)))\n",
    "    for i in range(0,len(np.unique(lasso_labels))):\n",
    "        _id = np.unique(lasso_labels)[i]\n",
    "        _data_mask = almost_data_list[lasso_labels == _id,:]\n",
    "\n",
    "        _rand_ch = np.floor(np.random.rand(500)*_data_mask.shape[0]).astype(int)\n",
    "        for j in range(_data_mask.shape[0]):\n",
    "            if j >= 500: break\n",
    "            axis[i].semilogy(np.exp(_data_mask[_rand_ch[j],:101]), color = cmap(_id%8+1)) \n",
    "            # axis[i].plot(np.exp(_data_mask[_rand_ch[j],101:]), color = cmap(_id%8+1)) \n",
    "\n",
    "        axis[i].xaxis.set_visible(False)\n",
    "        axis[i].yaxis.set_visible(False)\n",
    "        axis[i].sharex(axis[0])\n",
    "        axis[i].sharey(axis[0])\n",
    "else:\n",
    "    fig, axis = plt.subplots(_n,5)\n",
    "    for i in range(0,len(np.unique(lasso_labels))):\n",
    "        _id = np.unique(lasso_labels)[i]\n",
    "        _data_mask = almost_data_list[lasso_labels == _id,:]\n",
    "\n",
    "        _rand_ch = np.floor(np.random.rand(100)*_data_mask.shape[0]).astype(int)\n",
    "        for j in range(_data_mask.shape[0]):\n",
    "            if j >= 100: break\n",
    "            axis[int(i/5),int(i%5)].semilogy(np.exp(_data_mask[_rand_ch[j],:101]), color = cmap(_id%8+1)) \n",
    "\n",
    "        axis[int(i/5),int(i%5)].xaxis.set_visible(False)\n",
    "        axis[int(i/5),int(i%5)].yaxis.set_visible(False)\n",
    "        axis[int(i/5),int(i%5)].sharex(axis[0,0])\n",
    "        axis[int(i/5),int(i%5)].sharey(axis[0,0])\n",
    "\n",
    "fig.show()\n"
   ]
  },
  {
   "cell_type": "code",
   "execution_count": 48,
   "id": "e3636b15",
   "metadata": {},
   "outputs": [],
   "source": [
    "_data_mask = almost_data_list[lasso_labels == 0,:]\n",
    "fig = plt.figure()\n",
    "ax0 = fig.add_subplot(121)\n",
    "ax1 = fig.add_subplot(122)\n",
    "for i in range(_data_mask.shape[0]):\n",
    "    ax0.semilogy(np.exp(_data_mask[i,:101]), alpha = 0.005)\n",
    "    ax1.plot(_data_mask[i,101:], alpha = 0.005)\n",
    "    "
   ]
  },
  {
   "cell_type": "code",
   "execution_count": null,
   "id": "1e70a0ff",
   "metadata": {},
   "outputs": [],
   "source": [
    "# np.save(\"D:\\Baihm\\EISNN\\Dataset\\Anomaly\\Open\\Archive_Weird_cluster.npy\",_data_mask)"
   ]
  },
  {
   "cell_type": "markdown",
   "id": "cdc27215",
   "metadata": {},
   "source": [
    "### Save Feature Data"
   ]
  },
  {
   "cell_type": "code",
   "execution_count": null,
   "id": "6ca21904",
   "metadata": {},
   "outputs": [],
   "source": [
    "_id_mask = almost_id_list[lasso_labels == 0,:]\n",
    "\n",
    "# _data_mask = almost_data_list[lasso_labels == _id,:]\n",
    "_rand_ch = np.floor(np.random.rand(1000)*_id_mask.shape[0]).astype(int)\n",
    "        \n",
    "open_data = almost_data_list[lasso_labels == 0,:]\n",
    "open_data = open_data[_rand_ch,:]\n",
    "open_data.shape\n",
    "# np.save(\"D:\\Baihm\\EISNN\\Dataset\\Anomaly\\Open\\EIS_Open.npy\",open_data)"
   ]
  },
  {
   "cell_type": "markdown",
   "id": "da609b12",
   "metadata": {},
   "source": [
    "### Black List"
   ]
  },
  {
   "cell_type": "code",
   "execution_count": null,
   "id": "0f21a49d",
   "metadata": {},
   "outputs": [],
   "source": [
    "\n",
    "\n",
    "fig, axis = plt.subplots(1,3, figsize = (12,4))\n",
    "for i in range(0,len(np.unique(lasso_labels))):\n",
    "    _id = np.unique(lasso_labels)[i]\n",
    "    _data_mask = almost_data_list[lasso_labels == _id,:]\n",
    "\n",
    "    _rand_ch = np.floor(np.random.rand(100)*_data_mask.shape[0]).astype(int)\n",
    "    for j in range(_data_mask.shape[0]):\n",
    "        if j >= 100: break\n",
    "        axis[int(i%3)].semilogy(np.exp(_data_mask[_rand_ch[j],:101]), color = cmap(_id%8+1)) \n",
    "\n",
    "    axis[int(i%3)].xaxis.set_visible(False)\n",
    "    axis[int(i%3)].yaxis.set_visible(False)\n",
    "    axis[int(i%3)].sharex(axis[0])\n",
    "    axis[int(i%3)].sharey(axis[0])\n",
    "\n",
    "fig.show()\n"
   ]
  },
  {
   "cell_type": "markdown",
   "id": "018fe2ef",
   "metadata": {},
   "source": [
    "# Manifold"
   ]
  },
  {
   "cell_type": "markdown",
   "id": "1026dd16",
   "metadata": {},
   "source": [
    "## Input Data"
   ]
  },
  {
   "cell_type": "code",
   "execution_count": 6,
   "id": "f5696fed",
   "metadata": {},
   "outputs": [
    {
     "name": "stderr",
     "output_type": "stream",
     "text": [
      "\u001b[32m2025-05-25 19:05:26.181\u001b[0m | \u001b[1mINFO    \u001b[0m | \u001b[36m__main__\u001b[0m:\u001b[36m<module>\u001b[0m:\u001b[36m8\u001b[0m - \u001b[1mSearch in D:/Baihm/EISNN/Archive/ and find 218 electrodes\u001b[0m\n"
     ]
    }
   ],
   "source": [
    "rootPath = \"D:/Baihm/EISNN/Archive/\"\n",
    "# rootPath = \"D:/Baihm/EISNN/Archive_New/\"\n",
    "# rootPath = \"D:/Baihm/EISNN/Invivo\"\n",
    "# ele_list = SearchELE(rootPath)\n",
    "ele_list = SearchELE(rootPath, ele_pattern = re.compile(r\"(.+?)_归档\"))\n",
    "# ele_list = SearchELE(rootPath, ele_pattern = re.compile(r\"(.+?)_Ver02\"))\n",
    "n_ele = len(ele_list)\n",
    "logger.info(f\"Search in {rootPath} and find {n_ele:03d} electrodes\")"
   ]
  },
  {
   "cell_type": "code",
   "execution_count": 7,
   "id": "b7709474",
   "metadata": {},
   "outputs": [
    {
     "name": "stderr",
     "output_type": "stream",
     "text": [
      "\u001b[32m2025-05-25 19:05:46.554\u001b[0m | \u001b[1mINFO    \u001b[0m | \u001b[36m__main__\u001b[0m:\u001b[36m<module>\u001b[0m:\u001b[36m33\u001b[0m - \u001b[1mELE [0/218]: D:/Baihm/EISNN/Archive/01037160_归档\u001b[0m\n",
      "\u001b[32m2025-05-25 19:05:46.647\u001b[0m | \u001b[1mINFO    \u001b[0m | \u001b[36m__main__\u001b[0m:\u001b[36m<module>\u001b[0m:\u001b[36m33\u001b[0m - \u001b[1mELE [1/218]: D:/Baihm/EISNN/Archive/01037161_归档\u001b[0m\n",
      "\u001b[32m2025-05-25 19:05:46.727\u001b[0m | \u001b[1mINFO    \u001b[0m | \u001b[36m__main__\u001b[0m:\u001b[36m<module>\u001b[0m:\u001b[36m33\u001b[0m - \u001b[1mELE [2/218]: D:/Baihm/EISNN/Archive/01037162_归档\u001b[0m\n",
      "\u001b[32m2025-05-25 19:05:46.799\u001b[0m | \u001b[1mINFO    \u001b[0m | \u001b[36m__main__\u001b[0m:\u001b[36m<module>\u001b[0m:\u001b[36m33\u001b[0m - \u001b[1mELE [3/218]: D:/Baihm/EISNN/Archive/01067093_归档\u001b[0m\n",
      "\u001b[32m2025-05-25 19:05:46.864\u001b[0m | \u001b[1mINFO    \u001b[0m | \u001b[36m__main__\u001b[0m:\u001b[36m<module>\u001b[0m:\u001b[36m33\u001b[0m - \u001b[1mELE [4/218]: D:/Baihm/EISNN/Archive/01067094_归档\u001b[0m\n",
      "\u001b[32m2025-05-25 19:05:46.929\u001b[0m | \u001b[1mINFO    \u001b[0m | \u001b[36m__main__\u001b[0m:\u001b[36m<module>\u001b[0m:\u001b[36m33\u001b[0m - \u001b[1mELE [5/218]: D:/Baihm/EISNN/Archive/01067095_归档\u001b[0m\n",
      "\u001b[32m2025-05-25 19:05:46.967\u001b[0m | \u001b[1mINFO    \u001b[0m | \u001b[36m__main__\u001b[0m:\u001b[36m<module>\u001b[0m:\u001b[36m33\u001b[0m - \u001b[1mELE [6/218]: D:/Baihm/EISNN/Archive/02017384_归档\u001b[0m\n",
      "\u001b[32m2025-05-25 19:05:47.013\u001b[0m | \u001b[1mINFO    \u001b[0m | \u001b[36m__main__\u001b[0m:\u001b[36m<module>\u001b[0m:\u001b[36m33\u001b[0m - \u001b[1mELE [7/218]: D:/Baihm/EISNN/Archive/02017385_归档\u001b[0m\n",
      "\u001b[32m2025-05-25 19:05:47.038\u001b[0m | \u001b[1mINFO    \u001b[0m | \u001b[36m__main__\u001b[0m:\u001b[36m<module>\u001b[0m:\u001b[36m33\u001b[0m - \u001b[1mELE [8/218]: D:/Baihm/EISNN/Archive/02017387_归档\u001b[0m\n",
      "\u001b[32m2025-05-25 19:05:47.109\u001b[0m | \u001b[1mINFO    \u001b[0m | \u001b[36m__main__\u001b[0m:\u001b[36m<module>\u001b[0m:\u001b[36m33\u001b[0m - \u001b[1mELE [9/218]: D:/Baihm/EISNN/Archive/02027373_归档\u001b[0m\n",
      "\u001b[32m2025-05-25 19:05:47.174\u001b[0m | \u001b[1mINFO    \u001b[0m | \u001b[36m__main__\u001b[0m:\u001b[36m<module>\u001b[0m:\u001b[36m33\u001b[0m - \u001b[1mELE [10/218]: D:/Baihm/EISNN/Archive/02027390_归档\u001b[0m\n",
      "\u001b[32m2025-05-25 19:05:47.241\u001b[0m | \u001b[1mINFO    \u001b[0m | \u001b[36m__main__\u001b[0m:\u001b[36m<module>\u001b[0m:\u001b[36m33\u001b[0m - \u001b[1mELE [11/218]: D:/Baihm/EISNN/Archive/02027393_归档\u001b[0m\n",
      "\u001b[32m2025-05-25 19:05:47.320\u001b[0m | \u001b[1mINFO    \u001b[0m | \u001b[36m__main__\u001b[0m:\u001b[36m<module>\u001b[0m:\u001b[36m33\u001b[0m - \u001b[1mELE [12/218]: D:/Baihm/EISNN/Archive/02027406_归档\u001b[0m\n",
      "\u001b[32m2025-05-25 19:05:47.400\u001b[0m | \u001b[1mINFO    \u001b[0m | \u001b[36m__main__\u001b[0m:\u001b[36m<module>\u001b[0m:\u001b[36m33\u001b[0m - \u001b[1mELE [13/218]: D:/Baihm/EISNN/Archive/02027407_归档\u001b[0m\n",
      "\u001b[32m2025-05-25 19:05:47.471\u001b[0m | \u001b[1mINFO    \u001b[0m | \u001b[36m__main__\u001b[0m:\u001b[36m<module>\u001b[0m:\u001b[36m33\u001b[0m - \u001b[1mELE [14/218]: D:/Baihm/EISNN/Archive/02027408_归档\u001b[0m\n",
      "\u001b[32m2025-05-25 19:05:47.556\u001b[0m | \u001b[1mINFO    \u001b[0m | \u001b[36m__main__\u001b[0m:\u001b[36m<module>\u001b[0m:\u001b[36m33\u001b[0m - \u001b[1mELE [15/218]: D:/Baihm/EISNN/Archive/02027409_归档\u001b[0m\n",
      "\u001b[32m2025-05-25 19:05:47.637\u001b[0m | \u001b[1mINFO    \u001b[0m | \u001b[36m__main__\u001b[0m:\u001b[36m<module>\u001b[0m:\u001b[36m33\u001b[0m - \u001b[1mELE [16/218]: D:/Baihm/EISNN/Archive/02027410_归档\u001b[0m\n",
      "\u001b[32m2025-05-25 19:05:47.688\u001b[0m | \u001b[1mINFO    \u001b[0m | \u001b[36m__main__\u001b[0m:\u001b[36m<module>\u001b[0m:\u001b[36m33\u001b[0m - \u001b[1mELE [18/218]: D:/Baihm/EISNN/Archive/02067447_归档\u001b[0m\n",
      "\u001b[32m2025-05-25 19:05:47.750\u001b[0m | \u001b[1mINFO    \u001b[0m | \u001b[36m__main__\u001b[0m:\u001b[36m<module>\u001b[0m:\u001b[36m33\u001b[0m - \u001b[1mELE [19/218]: D:/Baihm/EISNN/Archive/02067448_归档\u001b[0m\n",
      "\u001b[32m2025-05-25 19:05:47.811\u001b[0m | \u001b[1mINFO    \u001b[0m | \u001b[36m__main__\u001b[0m:\u001b[36m<module>\u001b[0m:\u001b[36m33\u001b[0m - \u001b[1mELE [21/218]: D:/Baihm/EISNN/Archive/02067450_归档\u001b[0m\n",
      "\u001b[32m2025-05-25 19:05:47.914\u001b[0m | \u001b[1mINFO    \u001b[0m | \u001b[36m__main__\u001b[0m:\u001b[36m<module>\u001b[0m:\u001b[36m33\u001b[0m - \u001b[1mELE [22/218]: D:/Baihm/EISNN/Archive/05087163_归档\u001b[0m\n",
      "\u001b[32m2025-05-25 19:05:47.979\u001b[0m | \u001b[1mINFO    \u001b[0m | \u001b[36m__main__\u001b[0m:\u001b[36m<module>\u001b[0m:\u001b[36m33\u001b[0m - \u001b[1mELE [23/218]: D:/Baihm/EISNN/Archive/05087164_归档\u001b[0m\n",
      "\u001b[32m2025-05-25 19:05:48.105\u001b[0m | \u001b[1mINFO    \u001b[0m | \u001b[36m__main__\u001b[0m:\u001b[36m<module>\u001b[0m:\u001b[36m33\u001b[0m - \u001b[1mELE [24/218]: D:/Baihm/EISNN/Archive/05097165_归档\u001b[0m\n",
      "\u001b[32m2025-05-25 19:05:48.179\u001b[0m | \u001b[1mINFO    \u001b[0m | \u001b[36m__main__\u001b[0m:\u001b[36m<module>\u001b[0m:\u001b[36m33\u001b[0m - \u001b[1mELE [25/218]: D:/Baihm/EISNN/Archive/05097166_归档\u001b[0m\n",
      "\u001b[32m2025-05-25 19:05:48.273\u001b[0m | \u001b[1mINFO    \u001b[0m | \u001b[36m__main__\u001b[0m:\u001b[36m<module>\u001b[0m:\u001b[36m33\u001b[0m - \u001b[1mELE [26/218]: D:/Baihm/EISNN/Archive/05107167_归档\u001b[0m\n",
      "\u001b[32m2025-05-25 19:05:48.363\u001b[0m | \u001b[1mINFO    \u001b[0m | \u001b[36m__main__\u001b[0m:\u001b[36m<module>\u001b[0m:\u001b[36m33\u001b[0m - \u001b[1mELE [27/218]: D:/Baihm/EISNN/Archive/05107180_归档\u001b[0m\n",
      "\u001b[32m2025-05-25 19:05:48.456\u001b[0m | \u001b[1mINFO    \u001b[0m | \u001b[36m__main__\u001b[0m:\u001b[36m<module>\u001b[0m:\u001b[36m33\u001b[0m - \u001b[1mELE [28/218]: D:/Baihm/EISNN/Archive/05117174_归档\u001b[0m\n",
      "\u001b[32m2025-05-25 19:05:48.530\u001b[0m | \u001b[1mINFO    \u001b[0m | \u001b[36m__main__\u001b[0m:\u001b[36m<module>\u001b[0m:\u001b[36m33\u001b[0m - \u001b[1mELE [29/218]: D:/Baihm/EISNN/Archive/05117178_归档\u001b[0m\n",
      "\u001b[32m2025-05-25 19:05:48.605\u001b[0m | \u001b[1mINFO    \u001b[0m | \u001b[36m__main__\u001b[0m:\u001b[36m<module>\u001b[0m:\u001b[36m33\u001b[0m - \u001b[1mELE [30/218]: D:/Baihm/EISNN/Archive/05127168_归档\u001b[0m\n",
      "\u001b[32m2025-05-25 19:05:48.704\u001b[0m | \u001b[1mINFO    \u001b[0m | \u001b[36m__main__\u001b[0m:\u001b[36m<module>\u001b[0m:\u001b[36m33\u001b[0m - \u001b[1mELE [31/218]: D:/Baihm/EISNN/Archive/05127177_归档\u001b[0m\n",
      "\u001b[32m2025-05-25 19:05:48.787\u001b[0m | \u001b[1mINFO    \u001b[0m | \u001b[36m__main__\u001b[0m:\u001b[36m<module>\u001b[0m:\u001b[36m33\u001b[0m - \u001b[1mELE [32/218]: D:/Baihm/EISNN/Archive/06017403_归档\u001b[0m\n",
      "\u001b[32m2025-05-25 19:05:48.846\u001b[0m | \u001b[1mINFO    \u001b[0m | \u001b[36m__main__\u001b[0m:\u001b[36m<module>\u001b[0m:\u001b[36m33\u001b[0m - \u001b[1mELE [33/218]: D:/Baihm/EISNN/Archive/06017404_归档\u001b[0m\n",
      "\u001b[32m2025-05-25 19:05:48.896\u001b[0m | \u001b[1mINFO    \u001b[0m | \u001b[36m__main__\u001b[0m:\u001b[36m<module>\u001b[0m:\u001b[36m33\u001b[0m - \u001b[1mELE [34/218]: D:/Baihm/EISNN/Archive/06017405_归档\u001b[0m\n",
      "\u001b[32m2025-05-25 19:05:48.995\u001b[0m | \u001b[1mINFO    \u001b[0m | \u001b[36m__main__\u001b[0m:\u001b[36m<module>\u001b[0m:\u001b[36m33\u001b[0m - \u001b[1mELE [35/218]: D:/Baihm/EISNN/Archive/06017758_归档\u001b[0m\n",
      "\u001b[32m2025-05-25 19:05:49.072\u001b[0m | \u001b[1mINFO    \u001b[0m | \u001b[36m__main__\u001b[0m:\u001b[36m<module>\u001b[0m:\u001b[36m33\u001b[0m - \u001b[1mELE [36/218]: D:/Baihm/EISNN/Archive/06017760_归档\u001b[0m\n",
      "\u001b[32m2025-05-25 19:05:49.173\u001b[0m | \u001b[1mINFO    \u001b[0m | \u001b[36m__main__\u001b[0m:\u001b[36m<module>\u001b[0m:\u001b[36m33\u001b[0m - \u001b[1mELE [37/218]: D:/Baihm/EISNN/Archive/06047729_归档\u001b[0m\n",
      "\u001b[32m2025-05-25 19:05:49.247\u001b[0m | \u001b[1mINFO    \u001b[0m | \u001b[36m__main__\u001b[0m:\u001b[36m<module>\u001b[0m:\u001b[36m33\u001b[0m - \u001b[1mELE [38/218]: D:/Baihm/EISNN/Archive/06047730_归档\u001b[0m\n",
      "\u001b[32m2025-05-25 19:05:49.354\u001b[0m | \u001b[1mINFO    \u001b[0m | \u001b[36m__main__\u001b[0m:\u001b[36m<module>\u001b[0m:\u001b[36m33\u001b[0m - \u001b[1mELE [39/218]: D:/Baihm/EISNN/Archive/06047731_归档\u001b[0m\n",
      "\u001b[32m2025-05-25 19:05:49.437\u001b[0m | \u001b[1mINFO    \u001b[0m | \u001b[36m__main__\u001b[0m:\u001b[36m<module>\u001b[0m:\u001b[36m33\u001b[0m - \u001b[1mELE [40/218]: D:/Baihm/EISNN/Archive/08260405_归档\u001b[0m\n",
      "\u001b[32m2025-05-25 19:05:49.535\u001b[0m | \u001b[1mINFO    \u001b[0m | \u001b[36m__main__\u001b[0m:\u001b[36m<module>\u001b[0m:\u001b[36m33\u001b[0m - \u001b[1mELE [41/218]: D:/Baihm/EISNN/Archive/08260407_归档\u001b[0m\n",
      "\u001b[32m2025-05-25 19:05:49.649\u001b[0m | \u001b[1mINFO    \u001b[0m | \u001b[36m__main__\u001b[0m:\u001b[36m<module>\u001b[0m:\u001b[36m33\u001b[0m - \u001b[1mELE [42/218]: D:/Baihm/EISNN/Archive/08260408_归档\u001b[0m\n",
      "\u001b[32m2025-05-25 19:05:49.717\u001b[0m | \u001b[1mINFO    \u001b[0m | \u001b[36m__main__\u001b[0m:\u001b[36m<module>\u001b[0m:\u001b[36m33\u001b[0m - \u001b[1mELE [50/218]: D:/Baihm/EISNN/Archive/09047412_归档\u001b[0m\n",
      "\u001b[32m2025-05-25 19:05:49.754\u001b[0m | \u001b[1mINFO    \u001b[0m | \u001b[36m__main__\u001b[0m:\u001b[36m<module>\u001b[0m:\u001b[36m33\u001b[0m - \u001b[1mELE [53/218]: D:/Baihm/EISNN/Archive/09047415_归档\u001b[0m\n",
      "\u001b[32m2025-05-25 19:05:49.805\u001b[0m | \u001b[1mINFO    \u001b[0m | \u001b[36m__main__\u001b[0m:\u001b[36m<module>\u001b[0m:\u001b[36m33\u001b[0m - \u001b[1mELE [55/218]: D:/Baihm/EISNN/Archive/09047417_归档\u001b[0m\n",
      "\u001b[32m2025-05-25 19:05:49.857\u001b[0m | \u001b[1mINFO    \u001b[0m | \u001b[36m__main__\u001b[0m:\u001b[36m<module>\u001b[0m:\u001b[36m33\u001b[0m - \u001b[1mELE [60/218]: D:/Baihm/EISNN/Archive/09047492_归档\u001b[0m\n",
      "\u001b[32m2025-05-25 19:05:49.897\u001b[0m | \u001b[1mINFO    \u001b[0m | \u001b[36m__main__\u001b[0m:\u001b[36m<module>\u001b[0m:\u001b[36m33\u001b[0m - \u001b[1mELE [61/218]: D:/Baihm/EISNN/Archive/09060401_归档\u001b[0m\n",
      "\u001b[32m2025-05-25 19:05:49.946\u001b[0m | \u001b[1mINFO    \u001b[0m | \u001b[36m__main__\u001b[0m:\u001b[36m<module>\u001b[0m:\u001b[36m33\u001b[0m - \u001b[1mELE [62/218]: D:/Baihm/EISNN/Archive/09060402_归档\u001b[0m\n",
      "\u001b[32m2025-05-25 19:05:50.005\u001b[0m | \u001b[1mINFO    \u001b[0m | \u001b[36m__main__\u001b[0m:\u001b[36m<module>\u001b[0m:\u001b[36m33\u001b[0m - \u001b[1mELE [63/218]: D:/Baihm/EISNN/Archive/09060403_归档\u001b[0m\n",
      "\u001b[32m2025-05-25 19:05:50.082\u001b[0m | \u001b[1mINFO    \u001b[0m | \u001b[36m__main__\u001b[0m:\u001b[36m<module>\u001b[0m:\u001b[36m33\u001b[0m - \u001b[1mELE [64/218]: D:/Baihm/EISNN/Archive/09190702_归档\u001b[0m\n",
      "\u001b[32m2025-05-25 19:05:50.116\u001b[0m | \u001b[1mINFO    \u001b[0m | \u001b[36m__main__\u001b[0m:\u001b[36m<module>\u001b[0m:\u001b[36m33\u001b[0m - \u001b[1mELE [65/218]: D:/Baihm/EISNN/Archive/09190703_归档\u001b[0m\n",
      "\u001b[32m2025-05-25 19:05:50.169\u001b[0m | \u001b[1mINFO    \u001b[0m | \u001b[36m__main__\u001b[0m:\u001b[36m<module>\u001b[0m:\u001b[36m33\u001b[0m - \u001b[1mELE [66/218]: D:/Baihm/EISNN/Archive/09190704_归档\u001b[0m\n",
      "\u001b[32m2025-05-25 19:05:50.229\u001b[0m | \u001b[1mINFO    \u001b[0m | \u001b[36m__main__\u001b[0m:\u001b[36m<module>\u001b[0m:\u001b[36m33\u001b[0m - \u001b[1mELE [69/218]: D:/Baihm/EISNN/Archive/09207021_归档\u001b[0m\n",
      "\u001b[32m2025-05-25 19:05:50.282\u001b[0m | \u001b[1mINFO    \u001b[0m | \u001b[36m__main__\u001b[0m:\u001b[36m<module>\u001b[0m:\u001b[36m33\u001b[0m - \u001b[1mELE [70/218]: D:/Baihm/EISNN/Archive/09207022_归档\u001b[0m\n",
      "\u001b[32m2025-05-25 19:05:50.321\u001b[0m | \u001b[1mINFO    \u001b[0m | \u001b[36m__main__\u001b[0m:\u001b[36m<module>\u001b[0m:\u001b[36m33\u001b[0m - \u001b[1mELE [71/218]: D:/Baihm/EISNN/Archive/09207024_归档\u001b[0m\n",
      "\u001b[32m2025-05-25 19:05:50.408\u001b[0m | \u001b[1mINFO    \u001b[0m | \u001b[36m__main__\u001b[0m:\u001b[36m<module>\u001b[0m:\u001b[36m33\u001b[0m - \u001b[1mELE [72/218]: D:/Baihm/EISNN/Archive/09207029_归档\u001b[0m\n",
      "\u001b[32m2025-05-25 19:05:50.502\u001b[0m | \u001b[1mINFO    \u001b[0m | \u001b[36m__main__\u001b[0m:\u001b[36m<module>\u001b[0m:\u001b[36m33\u001b[0m - \u001b[1mELE [73/218]: D:/Baihm/EISNN/Archive/09207030_归档\u001b[0m\n",
      "\u001b[32m2025-05-25 19:05:50.566\u001b[0m | \u001b[1mINFO    \u001b[0m | \u001b[36m__main__\u001b[0m:\u001b[36m<module>\u001b[0m:\u001b[36m33\u001b[0m - \u001b[1mELE [74/218]: D:/Baihm/EISNN/Archive/09207031_归档\u001b[0m\n",
      "\u001b[32m2025-05-25 19:05:50.655\u001b[0m | \u001b[1mINFO    \u001b[0m | \u001b[36m__main__\u001b[0m:\u001b[36m<module>\u001b[0m:\u001b[36m33\u001b[0m - \u001b[1mELE [75/218]: D:/Baihm/EISNN/Archive/09230301_归档\u001b[0m\n",
      "\u001b[32m2025-05-25 19:05:50.768\u001b[0m | \u001b[1mINFO    \u001b[0m | \u001b[36m__main__\u001b[0m:\u001b[36m<module>\u001b[0m:\u001b[36m33\u001b[0m - \u001b[1mELE [76/218]: D:/Baihm/EISNN/Archive/09230302_归档\u001b[0m\n",
      "\u001b[32m2025-05-25 19:05:50.902\u001b[0m | \u001b[1mINFO    \u001b[0m | \u001b[36m__main__\u001b[0m:\u001b[36m<module>\u001b[0m:\u001b[36m33\u001b[0m - \u001b[1mELE [77/218]: D:/Baihm/EISNN/Archive/09230303_归档\u001b[0m\n",
      "\u001b[32m2025-05-25 19:05:51.008\u001b[0m | \u001b[1mINFO    \u001b[0m | \u001b[36m__main__\u001b[0m:\u001b[36m<module>\u001b[0m:\u001b[36m33\u001b[0m - \u001b[1mELE [78/218]: D:/Baihm/EISNN/Archive/09230410_归档\u001b[0m\n",
      "\u001b[32m2025-05-25 19:05:51.065\u001b[0m | \u001b[1mINFO    \u001b[0m | \u001b[36m__main__\u001b[0m:\u001b[36m<module>\u001b[0m:\u001b[36m33\u001b[0m - \u001b[1mELE [79/218]: D:/Baihm/EISNN/Archive/09230509_归档\u001b[0m\n",
      "\u001b[32m2025-05-25 19:05:51.135\u001b[0m | \u001b[1mINFO    \u001b[0m | \u001b[36m__main__\u001b[0m:\u001b[36m<module>\u001b[0m:\u001b[36m33\u001b[0m - \u001b[1mELE [80/218]: D:/Baihm/EISNN/Archive/09230510_归档\u001b[0m\n",
      "\u001b[32m2025-05-25 19:05:51.264\u001b[0m | \u001b[1mINFO    \u001b[0m | \u001b[36m__main__\u001b[0m:\u001b[36m<module>\u001b[0m:\u001b[36m33\u001b[0m - \u001b[1mELE [81/218]: D:/Baihm/EISNN/Archive/09230513_归档\u001b[0m\n",
      "\u001b[32m2025-05-25 19:05:51.319\u001b[0m | \u001b[1mINFO    \u001b[0m | \u001b[36m__main__\u001b[0m:\u001b[36m<module>\u001b[0m:\u001b[36m33\u001b[0m - \u001b[1mELE [82/218]: D:/Baihm/EISNN/Archive/09230602_归档\u001b[0m\n",
      "\u001b[32m2025-05-25 19:05:51.382\u001b[0m | \u001b[1mINFO    \u001b[0m | \u001b[36m__main__\u001b[0m:\u001b[36m<module>\u001b[0m:\u001b[36m33\u001b[0m - \u001b[1mELE [83/218]: D:/Baihm/EISNN/Archive/09230801_归档\u001b[0m\n",
      "\u001b[32m2025-05-25 19:05:51.423\u001b[0m | \u001b[1mINFO    \u001b[0m | \u001b[36m__main__\u001b[0m:\u001b[36m<module>\u001b[0m:\u001b[36m33\u001b[0m - \u001b[1mELE [84/218]: D:/Baihm/EISNN/Archive/09231201_归档\u001b[0m\n",
      "\u001b[32m2025-05-25 19:05:51.501\u001b[0m | \u001b[1mINFO    \u001b[0m | \u001b[36m__main__\u001b[0m:\u001b[36m<module>\u001b[0m:\u001b[36m33\u001b[0m - \u001b[1mELE [85/218]: D:/Baihm/EISNN/Archive/09231202_归档\u001b[0m\n",
      "\u001b[32m2025-05-25 19:05:51.579\u001b[0m | \u001b[1mINFO    \u001b[0m | \u001b[36m__main__\u001b[0m:\u001b[36m<module>\u001b[0m:\u001b[36m33\u001b[0m - \u001b[1mELE [94/218]: D:/Baihm/EISNN/Archive/09231409_归档\u001b[0m\n",
      "\u001b[32m2025-05-25 19:05:51.686\u001b[0m | \u001b[1mINFO    \u001b[0m | \u001b[36m__main__\u001b[0m:\u001b[36m<module>\u001b[0m:\u001b[36m33\u001b[0m - \u001b[1mELE [95/218]: D:/Baihm/EISNN/Archive/09250102_归档\u001b[0m\n",
      "\u001b[32m2025-05-25 19:05:51.791\u001b[0m | \u001b[1mINFO    \u001b[0m | \u001b[36m__main__\u001b[0m:\u001b[36m<module>\u001b[0m:\u001b[36m33\u001b[0m - \u001b[1mELE [96/218]: D:/Baihm/EISNN/Archive/09250103_归档\u001b[0m\n",
      "\u001b[32m2025-05-25 19:05:51.867\u001b[0m | \u001b[1mINFO    \u001b[0m | \u001b[36m__main__\u001b[0m:\u001b[36m<module>\u001b[0m:\u001b[36m33\u001b[0m - \u001b[1mELE [97/218]: D:/Baihm/EISNN/Archive/09250104_归档\u001b[0m\n",
      "\u001b[32m2025-05-25 19:05:51.953\u001b[0m | \u001b[1mINFO    \u001b[0m | \u001b[36m__main__\u001b[0m:\u001b[36m<module>\u001b[0m:\u001b[36m33\u001b[0m - \u001b[1mELE [98/218]: D:/Baihm/EISNN/Archive/09250210_归档\u001b[0m\n",
      "\u001b[32m2025-05-25 19:05:52.033\u001b[0m | \u001b[1mINFO    \u001b[0m | \u001b[36m__main__\u001b[0m:\u001b[36m<module>\u001b[0m:\u001b[36m33\u001b[0m - \u001b[1mELE [99/218]: D:/Baihm/EISNN/Archive/09290311_归档\u001b[0m\n",
      "\u001b[32m2025-05-25 19:05:52.111\u001b[0m | \u001b[1mINFO    \u001b[0m | \u001b[36m__main__\u001b[0m:\u001b[36m<module>\u001b[0m:\u001b[36m33\u001b[0m - \u001b[1mELE [100/218]: D:/Baihm/EISNN/Archive/09290312_归档\u001b[0m\n",
      "\u001b[32m2025-05-25 19:05:52.191\u001b[0m | \u001b[1mINFO    \u001b[0m | \u001b[36m__main__\u001b[0m:\u001b[36m<module>\u001b[0m:\u001b[36m33\u001b[0m - \u001b[1mELE [101/218]: D:/Baihm/EISNN/Archive/09290314_归档\u001b[0m\n",
      "\u001b[32m2025-05-25 19:05:52.291\u001b[0m | \u001b[1mINFO    \u001b[0m | \u001b[36m__main__\u001b[0m:\u001b[36m<module>\u001b[0m:\u001b[36m33\u001b[0m - \u001b[1mELE [102/218]: D:/Baihm/EISNN/Archive/09290511_归档\u001b[0m\n",
      "\u001b[32m2025-05-25 19:05:52.320\u001b[0m | \u001b[1mINFO    \u001b[0m | \u001b[36m__main__\u001b[0m:\u001b[36m<module>\u001b[0m:\u001b[36m33\u001b[0m - \u001b[1mELE [103/218]: D:/Baihm/EISNN/Archive/10017036_归档\u001b[0m\n",
      "\u001b[32m2025-05-25 19:05:52.368\u001b[0m | \u001b[1mINFO    \u001b[0m | \u001b[36m__main__\u001b[0m:\u001b[36m<module>\u001b[0m:\u001b[36m33\u001b[0m - \u001b[1mELE [104/218]: D:/Baihm/EISNN/Archive/10017037_归档\u001b[0m\n",
      "\u001b[32m2025-05-25 19:05:52.401\u001b[0m | \u001b[1mINFO    \u001b[0m | \u001b[36m__main__\u001b[0m:\u001b[36m<module>\u001b[0m:\u001b[36m33\u001b[0m - \u001b[1mELE [105/218]: D:/Baihm/EISNN/Archive/10017038_归档\u001b[0m\n",
      "\u001b[32m2025-05-25 19:05:52.473\u001b[0m | \u001b[1mINFO    \u001b[0m | \u001b[36m__main__\u001b[0m:\u001b[36m<module>\u001b[0m:\u001b[36m33\u001b[0m - \u001b[1mELE [106/218]: D:/Baihm/EISNN/Archive/10037050_归档\u001b[0m\n",
      "\u001b[32m2025-05-25 19:05:52.536\u001b[0m | \u001b[1mINFO    \u001b[0m | \u001b[36m__main__\u001b[0m:\u001b[36m<module>\u001b[0m:\u001b[36m33\u001b[0m - \u001b[1mELE [107/218]: D:/Baihm/EISNN/Archive/10037051_归档\u001b[0m\n",
      "\u001b[32m2025-05-25 19:05:52.580\u001b[0m | \u001b[1mINFO    \u001b[0m | \u001b[36m__main__\u001b[0m:\u001b[36m<module>\u001b[0m:\u001b[36m33\u001b[0m - \u001b[1mELE [108/218]: D:/Baihm/EISNN/Archive/10037052_归档\u001b[0m\n",
      "\u001b[32m2025-05-25 19:05:52.657\u001b[0m | \u001b[1mINFO    \u001b[0m | \u001b[36m__main__\u001b[0m:\u001b[36m<module>\u001b[0m:\u001b[36m33\u001b[0m - \u001b[1mELE [109/218]: D:/Baihm/EISNN/Archive/10047056_归档\u001b[0m\n",
      "\u001b[32m2025-05-25 19:05:52.708\u001b[0m | \u001b[1mINFO    \u001b[0m | \u001b[36m__main__\u001b[0m:\u001b[36m<module>\u001b[0m:\u001b[36m33\u001b[0m - \u001b[1mELE [110/218]: D:/Baihm/EISNN/Archive/10047059_归档\u001b[0m\n",
      "\u001b[32m2025-05-25 19:05:52.762\u001b[0m | \u001b[1mINFO    \u001b[0m | \u001b[36m__main__\u001b[0m:\u001b[36m<module>\u001b[0m:\u001b[36m33\u001b[0m - \u001b[1mELE [111/218]: D:/Baihm/EISNN/Archive/10047060_归档\u001b[0m\n",
      "\u001b[32m2025-05-25 19:05:52.831\u001b[0m | \u001b[1mINFO    \u001b[0m | \u001b[36m__main__\u001b[0m:\u001b[36m<module>\u001b[0m:\u001b[36m33\u001b[0m - \u001b[1mELE [112/218]: D:/Baihm/EISNN/Archive/10057069_归档\u001b[0m\n",
      "\u001b[32m2025-05-25 19:05:52.888\u001b[0m | \u001b[1mINFO    \u001b[0m | \u001b[36m__main__\u001b[0m:\u001b[36m<module>\u001b[0m:\u001b[36m33\u001b[0m - \u001b[1mELE [114/218]: D:/Baihm/EISNN/Archive/10057071_归档\u001b[0m\n",
      "\u001b[32m2025-05-25 19:05:52.920\u001b[0m | \u001b[1mINFO    \u001b[0m | \u001b[36m__main__\u001b[0m:\u001b[36m<module>\u001b[0m:\u001b[36m33\u001b[0m - \u001b[1mELE [115/218]: D:/Baihm/EISNN/Archive/10057083_归档\u001b[0m\n",
      "\u001b[32m2025-05-25 19:05:52.987\u001b[0m | \u001b[1mINFO    \u001b[0m | \u001b[36m__main__\u001b[0m:\u001b[36m<module>\u001b[0m:\u001b[36m33\u001b[0m - \u001b[1mELE [116/218]: D:/Baihm/EISNN/Archive/10057084_归档\u001b[0m\n",
      "\u001b[32m2025-05-25 19:05:53.060\u001b[0m | \u001b[1mINFO    \u001b[0m | \u001b[36m__main__\u001b[0m:\u001b[36m<module>\u001b[0m:\u001b[36m33\u001b[0m - \u001b[1mELE [117/218]: D:/Baihm/EISNN/Archive/10057087_归档\u001b[0m\n",
      "\u001b[32m2025-05-25 19:05:53.120\u001b[0m | \u001b[1mINFO    \u001b[0m | \u001b[36m__main__\u001b[0m:\u001b[36m<module>\u001b[0m:\u001b[36m33\u001b[0m - \u001b[1mELE [118/218]: D:/Baihm/EISNN/Archive/10067077_归档\u001b[0m\n",
      "\u001b[32m2025-05-25 19:05:53.161\u001b[0m | \u001b[1mINFO    \u001b[0m | \u001b[36m__main__\u001b[0m:\u001b[36m<module>\u001b[0m:\u001b[36m33\u001b[0m - \u001b[1mELE [119/218]: D:/Baihm/EISNN/Archive/10067078_归档\u001b[0m\n",
      "\u001b[32m2025-05-25 19:05:53.230\u001b[0m | \u001b[1mINFO    \u001b[0m | \u001b[36m__main__\u001b[0m:\u001b[36m<module>\u001b[0m:\u001b[36m33\u001b[0m - \u001b[1mELE [120/218]: D:/Baihm/EISNN/Archive/10067080_归档\u001b[0m\n",
      "\u001b[32m2025-05-25 19:05:53.305\u001b[0m | \u001b[1mINFO    \u001b[0m | \u001b[36m__main__\u001b[0m:\u001b[36m<module>\u001b[0m:\u001b[36m33\u001b[0m - \u001b[1mELE [121/218]: D:/Baihm/EISNN/Archive/10080508_归档\u001b[0m\n",
      "\u001b[32m2025-05-25 19:05:53.410\u001b[0m | \u001b[1mINFO    \u001b[0m | \u001b[36m__main__\u001b[0m:\u001b[36m<module>\u001b[0m:\u001b[36m33\u001b[0m - \u001b[1mELE [122/218]: D:/Baihm/EISNN/Archive/10080509_归档\u001b[0m\n",
      "\u001b[32m2025-05-25 19:05:53.474\u001b[0m | \u001b[1mINFO    \u001b[0m | \u001b[36m__main__\u001b[0m:\u001b[36m<module>\u001b[0m:\u001b[36m33\u001b[0m - \u001b[1mELE [123/218]: D:/Baihm/EISNN/Archive/10080510_归档\u001b[0m\n",
      "\u001b[32m2025-05-25 19:05:53.552\u001b[0m | \u001b[1mINFO    \u001b[0m | \u001b[36m__main__\u001b[0m:\u001b[36m<module>\u001b[0m:\u001b[36m33\u001b[0m - \u001b[1mELE [124/218]: D:/Baihm/EISNN/Archive/10080601_归档\u001b[0m\n",
      "\u001b[32m2025-05-25 19:05:53.629\u001b[0m | \u001b[1mINFO    \u001b[0m | \u001b[36m__main__\u001b[0m:\u001b[36m<module>\u001b[0m:\u001b[36m33\u001b[0m - \u001b[1mELE [126/218]: D:/Baihm/EISNN/Archive/10080603_归档\u001b[0m\n",
      "\u001b[32m2025-05-25 19:05:53.694\u001b[0m | \u001b[1mINFO    \u001b[0m | \u001b[36m__main__\u001b[0m:\u001b[36m<module>\u001b[0m:\u001b[36m33\u001b[0m - \u001b[1mELE [127/218]: D:/Baihm/EISNN/Archive/10080706_归档\u001b[0m\n",
      "\u001b[32m2025-05-25 19:05:53.760\u001b[0m | \u001b[1mINFO    \u001b[0m | \u001b[36m__main__\u001b[0m:\u001b[36m<module>\u001b[0m:\u001b[36m33\u001b[0m - \u001b[1mELE [128/218]: D:/Baihm/EISNN/Archive/10080708_归档\u001b[0m\n",
      "\u001b[32m2025-05-25 19:05:53.864\u001b[0m | \u001b[1mINFO    \u001b[0m | \u001b[36m__main__\u001b[0m:\u001b[36m<module>\u001b[0m:\u001b[36m33\u001b[0m - \u001b[1mELE [132/218]: D:/Baihm/EISNN/Archive/10150201_归档\u001b[0m\n",
      "\u001b[32m2025-05-25 19:05:53.941\u001b[0m | \u001b[1mINFO    \u001b[0m | \u001b[36m__main__\u001b[0m:\u001b[36m<module>\u001b[0m:\u001b[36m33\u001b[0m - \u001b[1mELE [133/218]: D:/Baihm/EISNN/Archive/10150202_归档\u001b[0m\n",
      "\u001b[32m2025-05-25 19:05:54.032\u001b[0m | \u001b[1mINFO    \u001b[0m | \u001b[36m__main__\u001b[0m:\u001b[36m<module>\u001b[0m:\u001b[36m33\u001b[0m - \u001b[1mELE [134/218]: D:/Baihm/EISNN/Archive/10150203_归档\u001b[0m\n",
      "\u001b[32m2025-05-25 19:05:54.114\u001b[0m | \u001b[1mINFO    \u001b[0m | \u001b[36m__main__\u001b[0m:\u001b[36m<module>\u001b[0m:\u001b[36m33\u001b[0m - \u001b[1mELE [135/218]: D:/Baihm/EISNN/Archive/10160301_归档\u001b[0m\n",
      "\u001b[32m2025-05-25 19:05:54.218\u001b[0m | \u001b[1mINFO    \u001b[0m | \u001b[36m__main__\u001b[0m:\u001b[36m<module>\u001b[0m:\u001b[36m33\u001b[0m - \u001b[1mELE [136/218]: D:/Baihm/EISNN/Archive/10160302_归档\u001b[0m\n",
      "\u001b[32m2025-05-25 19:05:54.258\u001b[0m | \u001b[1mINFO    \u001b[0m | \u001b[36m__main__\u001b[0m:\u001b[36m<module>\u001b[0m:\u001b[36m33\u001b[0m - \u001b[1mELE [137/218]: D:/Baihm/EISNN/Archive/10160303_归档\u001b[0m\n",
      "\u001b[32m2025-05-25 19:05:54.343\u001b[0m | \u001b[1mINFO    \u001b[0m | \u001b[36m__main__\u001b[0m:\u001b[36m<module>\u001b[0m:\u001b[36m33\u001b[0m - \u001b[1mELE [138/218]: D:/Baihm/EISNN/Archive/10210301_归档\u001b[0m\n",
      "\u001b[32m2025-05-25 19:05:54.429\u001b[0m | \u001b[1mINFO    \u001b[0m | \u001b[36m__main__\u001b[0m:\u001b[36m<module>\u001b[0m:\u001b[36m33\u001b[0m - \u001b[1mELE [139/218]: D:/Baihm/EISNN/Archive/10210302_归档\u001b[0m\n",
      "\u001b[32m2025-05-25 19:05:54.527\u001b[0m | \u001b[1mINFO    \u001b[0m | \u001b[36m__main__\u001b[0m:\u001b[36m<module>\u001b[0m:\u001b[36m33\u001b[0m - \u001b[1mELE [140/218]: D:/Baihm/EISNN/Archive/10210303_归档\u001b[0m\n",
      "\u001b[32m2025-05-25 19:05:54.603\u001b[0m | \u001b[1mINFO    \u001b[0m | \u001b[36m__main__\u001b[0m:\u001b[36m<module>\u001b[0m:\u001b[36m33\u001b[0m - \u001b[1mELE [146/218]: D:/Baihm/EISNN/Archive/11037454_归档\u001b[0m\n",
      "\u001b[32m2025-05-25 19:05:54.657\u001b[0m | \u001b[1mINFO    \u001b[0m | \u001b[36m__main__\u001b[0m:\u001b[36m<module>\u001b[0m:\u001b[36m33\u001b[0m - \u001b[1mELE [149/218]: D:/Baihm/EISNN/Archive/11037715_归档\u001b[0m\n",
      "\u001b[32m2025-05-25 19:05:54.736\u001b[0m | \u001b[1mINFO    \u001b[0m | \u001b[36m__main__\u001b[0m:\u001b[36m<module>\u001b[0m:\u001b[36m33\u001b[0m - \u001b[1mELE [150/218]: D:/Baihm/EISNN/Archive/11037716_归档\u001b[0m\n",
      "\u001b[32m2025-05-25 19:05:54.802\u001b[0m | \u001b[1mINFO    \u001b[0m | \u001b[36m__main__\u001b[0m:\u001b[36m<module>\u001b[0m:\u001b[36m33\u001b[0m - \u001b[1mELE [151/218]: D:/Baihm/EISNN/Archive/11037717_归档\u001b[0m\n",
      "\u001b[32m2025-05-25 19:05:54.885\u001b[0m | \u001b[1mINFO    \u001b[0m | \u001b[36m__main__\u001b[0m:\u001b[36m<module>\u001b[0m:\u001b[36m33\u001b[0m - \u001b[1mELE [152/218]: D:/Baihm/EISNN/Archive/11047722_归档\u001b[0m\n",
      "\u001b[32m2025-05-25 19:05:54.961\u001b[0m | \u001b[1mINFO    \u001b[0m | \u001b[36m__main__\u001b[0m:\u001b[36m<module>\u001b[0m:\u001b[36m33\u001b[0m - \u001b[1mELE [153/218]: D:/Baihm/EISNN/Archive/11047725_归档\u001b[0m\n",
      "\u001b[32m2025-05-25 19:05:55.029\u001b[0m | \u001b[1mINFO    \u001b[0m | \u001b[36m__main__\u001b[0m:\u001b[36m<module>\u001b[0m:\u001b[36m33\u001b[0m - \u001b[1mELE [154/218]: D:/Baihm/EISNN/Archive/11047726_归档\u001b[0m\n",
      "\u001b[32m2025-05-25 19:05:55.117\u001b[0m | \u001b[1mINFO    \u001b[0m | \u001b[36m__main__\u001b[0m:\u001b[36m<module>\u001b[0m:\u001b[36m33\u001b[0m - \u001b[1mELE [155/218]: D:/Baihm/EISNN/Archive/11050201_归档\u001b[0m\n",
      "\u001b[32m2025-05-25 19:05:55.143\u001b[0m | \u001b[1mINFO    \u001b[0m | \u001b[36m__main__\u001b[0m:\u001b[36m<module>\u001b[0m:\u001b[36m33\u001b[0m - \u001b[1mELE [156/218]: D:/Baihm/EISNN/Archive/11050202_归档\u001b[0m\n",
      "\u001b[32m2025-05-25 19:05:55.199\u001b[0m | \u001b[1mINFO    \u001b[0m | \u001b[36m__main__\u001b[0m:\u001b[36m<module>\u001b[0m:\u001b[36m33\u001b[0m - \u001b[1mELE [157/218]: D:/Baihm/EISNN/Archive/11050203_归档\u001b[0m\n",
      "\u001b[32m2025-05-25 19:05:55.322\u001b[0m | \u001b[1mINFO    \u001b[0m | \u001b[36m__main__\u001b[0m:\u001b[36m<module>\u001b[0m:\u001b[36m33\u001b[0m - \u001b[1mELE [158/218]: D:/Baihm/EISNN/Archive/11057709_归档\u001b[0m\n",
      "\u001b[32m2025-05-25 19:05:55.379\u001b[0m | \u001b[1mINFO    \u001b[0m | \u001b[36m__main__\u001b[0m:\u001b[36m<module>\u001b[0m:\u001b[36m33\u001b[0m - \u001b[1mELE [159/218]: D:/Baihm/EISNN/Archive/11057710_归档\u001b[0m\n",
      "\u001b[32m2025-05-25 19:05:55.459\u001b[0m | \u001b[1mINFO    \u001b[0m | \u001b[36m__main__\u001b[0m:\u001b[36m<module>\u001b[0m:\u001b[36m33\u001b[0m - \u001b[1mELE [160/218]: D:/Baihm/EISNN/Archive/11057712_归档\u001b[0m\n",
      "\u001b[32m2025-05-25 19:05:55.565\u001b[0m | \u001b[1mINFO    \u001b[0m | \u001b[36m__main__\u001b[0m:\u001b[36m<module>\u001b[0m:\u001b[36m33\u001b[0m - \u001b[1mELE [162/218]: D:/Baihm/EISNN/Archive/11067222_归档\u001b[0m\n",
      "\u001b[32m2025-05-25 19:05:55.648\u001b[0m | \u001b[1mINFO    \u001b[0m | \u001b[36m__main__\u001b[0m:\u001b[36m<module>\u001b[0m:\u001b[36m33\u001b[0m - \u001b[1mELE [163/218]: D:/Baihm/EISNN/Archive/11067223_归档\u001b[0m\n",
      "\u001b[32m2025-05-25 19:05:55.743\u001b[0m | \u001b[1mINFO    \u001b[0m | \u001b[36m__main__\u001b[0m:\u001b[36m<module>\u001b[0m:\u001b[36m33\u001b[0m - \u001b[1mELE [164/218]: D:/Baihm/EISNN/Archive/11067224_归档\u001b[0m\n",
      "\u001b[32m2025-05-25 19:05:55.810\u001b[0m | \u001b[1mINFO    \u001b[0m | \u001b[36m__main__\u001b[0m:\u001b[36m<module>\u001b[0m:\u001b[36m33\u001b[0m - \u001b[1mELE [179/218]: D:/Baihm/EISNN/Archive/16037225_归档\u001b[0m\n",
      "\u001b[32m2025-05-25 19:05:55.882\u001b[0m | \u001b[1mINFO    \u001b[0m | \u001b[36m__main__\u001b[0m:\u001b[36m<module>\u001b[0m:\u001b[36m33\u001b[0m - \u001b[1mELE [180/218]: D:/Baihm/EISNN/Archive/16037226_归档\u001b[0m\n",
      "\u001b[32m2025-05-25 19:05:55.952\u001b[0m | \u001b[1mINFO    \u001b[0m | \u001b[36m__main__\u001b[0m:\u001b[36m<module>\u001b[0m:\u001b[36m33\u001b[0m - \u001b[1mELE [181/218]: D:/Baihm/EISNN/Archive/16037227_归档\u001b[0m\n",
      "\u001b[32m2025-05-25 19:05:56.008\u001b[0m | \u001b[1mINFO    \u001b[0m | \u001b[36m__main__\u001b[0m:\u001b[36m<module>\u001b[0m:\u001b[36m33\u001b[0m - \u001b[1mELE [182/218]: D:/Baihm/EISNN/Archive/20037515_归档\u001b[0m\n",
      "\u001b[32m2025-05-25 19:05:56.062\u001b[0m | \u001b[1mINFO    \u001b[0m | \u001b[36m__main__\u001b[0m:\u001b[36m<module>\u001b[0m:\u001b[36m33\u001b[0m - \u001b[1mELE [183/218]: D:/Baihm/EISNN/Archive/20037516_归档\u001b[0m\n",
      "\u001b[32m2025-05-25 19:05:56.118\u001b[0m | \u001b[1mINFO    \u001b[0m | \u001b[36m__main__\u001b[0m:\u001b[36m<module>\u001b[0m:\u001b[36m33\u001b[0m - \u001b[1mELE [184/218]: D:/Baihm/EISNN/Archive/20037517_归档\u001b[0m\n",
      "\u001b[32m2025-05-25 19:05:56.185\u001b[0m | \u001b[1mINFO    \u001b[0m | \u001b[36m__main__\u001b[0m:\u001b[36m<module>\u001b[0m:\u001b[36m33\u001b[0m - \u001b[1mELE [185/218]: D:/Baihm/EISNN/Archive/20057520_归档\u001b[0m\n",
      "\u001b[32m2025-05-25 19:05:56.269\u001b[0m | \u001b[1mINFO    \u001b[0m | \u001b[36m__main__\u001b[0m:\u001b[36m<module>\u001b[0m:\u001b[36m33\u001b[0m - \u001b[1mELE [186/218]: D:/Baihm/EISNN/Archive/20057521_归档\u001b[0m\n",
      "\u001b[32m2025-05-25 19:05:56.363\u001b[0m | \u001b[1mINFO    \u001b[0m | \u001b[36m__main__\u001b[0m:\u001b[36m<module>\u001b[0m:\u001b[36m33\u001b[0m - \u001b[1mELE [187/218]: D:/Baihm/EISNN/Archive/20067523_归档\u001b[0m\n",
      "\u001b[32m2025-05-25 19:05:56.420\u001b[0m | \u001b[1mINFO    \u001b[0m | \u001b[36m__main__\u001b[0m:\u001b[36m<module>\u001b[0m:\u001b[36m33\u001b[0m - \u001b[1mELE [188/218]: D:/Baihm/EISNN/Archive/20067524_归档\u001b[0m\n",
      "\u001b[32m2025-05-25 19:05:56.479\u001b[0m | \u001b[1mINFO    \u001b[0m | \u001b[36m__main__\u001b[0m:\u001b[36m<module>\u001b[0m:\u001b[36m33\u001b[0m - \u001b[1mELE [189/218]: D:/Baihm/EISNN/Archive/20067525_归档\u001b[0m\n",
      "\u001b[32m2025-05-25 19:05:56.510\u001b[0m | \u001b[1mINFO    \u001b[0m | \u001b[36m__main__\u001b[0m:\u001b[36m<module>\u001b[0m:\u001b[36m33\u001b[0m - \u001b[1mELE [190/218]: D:/Baihm/EISNN/Archive/22017367_归档\u001b[0m\n",
      "\u001b[32m2025-05-25 19:05:56.576\u001b[0m | \u001b[1mINFO    \u001b[0m | \u001b[36m__main__\u001b[0m:\u001b[36m<module>\u001b[0m:\u001b[36m33\u001b[0m - \u001b[1mELE [191/218]: D:/Baihm/EISNN/Archive/22017368_归档\u001b[0m\n",
      "\u001b[32m2025-05-25 19:05:56.617\u001b[0m | \u001b[1mINFO    \u001b[0m | \u001b[36m__main__\u001b[0m:\u001b[36m<module>\u001b[0m:\u001b[36m33\u001b[0m - \u001b[1mELE [192/218]: D:/Baihm/EISNN/Archive/22017369_归档\u001b[0m\n",
      "\u001b[32m2025-05-25 19:05:56.682\u001b[0m | \u001b[1mINFO    \u001b[0m | \u001b[36m__main__\u001b[0m:\u001b[36m<module>\u001b[0m:\u001b[36m33\u001b[0m - \u001b[1mELE [193/218]: D:/Baihm/EISNN/Archive/22017370_归档\u001b[0m\n",
      "\u001b[32m2025-05-25 19:05:56.703\u001b[0m | \u001b[1mINFO    \u001b[0m | \u001b[36m__main__\u001b[0m:\u001b[36m<module>\u001b[0m:\u001b[36m33\u001b[0m - \u001b[1mELE [194/218]: D:/Baihm/EISNN/Archive/22017371_归档\u001b[0m\n",
      "\u001b[32m2025-05-25 19:05:56.757\u001b[0m | \u001b[1mINFO    \u001b[0m | \u001b[36m__main__\u001b[0m:\u001b[36m<module>\u001b[0m:\u001b[36m33\u001b[0m - \u001b[1mELE [195/218]: D:/Baihm/EISNN/Archive/22017372_归档\u001b[0m\n",
      "\u001b[32m2025-05-25 19:05:56.794\u001b[0m | \u001b[1mINFO    \u001b[0m | \u001b[36m__main__\u001b[0m:\u001b[36m<module>\u001b[0m:\u001b[36m33\u001b[0m - \u001b[1mELE [197/218]: D:/Baihm/EISNN/Archive/22027365_归档\u001b[0m\n",
      "\u001b[32m2025-05-25 19:05:56.817\u001b[0m | \u001b[1mINFO    \u001b[0m | \u001b[36m__main__\u001b[0m:\u001b[36m<module>\u001b[0m:\u001b[36m33\u001b[0m - \u001b[1mELE [198/218]: D:/Baihm/EISNN/Archive/22027366_归档\u001b[0m\n",
      "\u001b[32m2025-05-25 19:05:56.835\u001b[0m | \u001b[1mINFO    \u001b[0m | \u001b[36m__main__\u001b[0m:\u001b[36m<module>\u001b[0m:\u001b[36m33\u001b[0m - \u001b[1mELE [199/218]: D:/Baihm/EISNN/Archive/22037378_归档\u001b[0m\n",
      "\u001b[32m2025-05-25 19:05:56.872\u001b[0m | \u001b[1mINFO    \u001b[0m | \u001b[36m__main__\u001b[0m:\u001b[36m<module>\u001b[0m:\u001b[36m33\u001b[0m - \u001b[1mELE [200/218]: D:/Baihm/EISNN/Archive/22037379_归档\u001b[0m\n",
      "\u001b[32m2025-05-25 19:05:56.928\u001b[0m | \u001b[1mINFO    \u001b[0m | \u001b[36m__main__\u001b[0m:\u001b[36m<module>\u001b[0m:\u001b[36m33\u001b[0m - \u001b[1mELE [201/218]: D:/Baihm/EISNN/Archive/22037380_归档\u001b[0m\n",
      "\u001b[32m2025-05-25 19:05:56.963\u001b[0m | \u001b[1mINFO    \u001b[0m | \u001b[36m__main__\u001b[0m:\u001b[36m<module>\u001b[0m:\u001b[36m33\u001b[0m - \u001b[1mELE [202/218]: D:/Baihm/EISNN/Archive/22047374_归档\u001b[0m\n",
      "\u001b[32m2025-05-25 19:05:56.988\u001b[0m | \u001b[1mINFO    \u001b[0m | \u001b[36m__main__\u001b[0m:\u001b[36m<module>\u001b[0m:\u001b[36m33\u001b[0m - \u001b[1mELE [203/218]: D:/Baihm/EISNN/Archive/22047376_归档\u001b[0m\n",
      "\u001b[32m2025-05-25 19:05:57.013\u001b[0m | \u001b[1mINFO    \u001b[0m | \u001b[36m__main__\u001b[0m:\u001b[36m<module>\u001b[0m:\u001b[36m33\u001b[0m - \u001b[1mELE [204/218]: D:/Baihm/EISNN/Archive/22047377_归档\u001b[0m\n",
      "\u001b[32m2025-05-25 19:05:57.072\u001b[0m | \u001b[1mINFO    \u001b[0m | \u001b[36m__main__\u001b[0m:\u001b[36m<module>\u001b[0m:\u001b[36m33\u001b[0m - \u001b[1mELE [210/218]: D:/Baihm/EISNN/Archive/23177396_归档\u001b[0m\n",
      "\u001b[32m2025-05-25 19:05:57.125\u001b[0m | \u001b[1mINFO    \u001b[0m | \u001b[36m__main__\u001b[0m:\u001b[36m<module>\u001b[0m:\u001b[36m33\u001b[0m - \u001b[1mELE [217/218]: D:/Baihm/EISNN/Archive/29036057_归档\u001b[0m\n",
      "\u001b[32m2025-05-25 19:05:57.209\u001b[0m | \u001b[1mINFO    \u001b[0m | \u001b[36m__main__\u001b[0m:\u001b[36m<module>\u001b[0m:\u001b[36m77\u001b[0m - \u001b[1mTotal 98690 data points from 153 electrodes\u001b[0m\n"
     ]
    },
    {
     "data": {
      "text/plain": [
       "461"
      ]
     },
     "execution_count": 7,
     "metadata": {},
     "output_type": "execute_result"
    }
   ],
   "source": [
    "# 首先我们把128/128看似完全没问题的这部分电极拿出来做聚类看看\n",
    "# 数据量也比较小，跑起来应该会更快\n",
    "\n",
    "# DATASET_SUFFIX = \"Outlier_Ver02\"\n",
    "DATASET_SUFFIX = \"Outlier_Ver03\"\n",
    "# DATASET_SUFFIX = \"Outlier_Ver04\"\n",
    "\n",
    "almost_start_list = []\n",
    "almost_start_id_list = []\n",
    "almost_data_list = []\n",
    "almost_id_list = []\n",
    "\n",
    "n_avaliable = 0\n",
    "\n",
    "freq_list = np.linspace(5000-1,0,101,dtype=int, endpoint=True)\n",
    "freq_list = freq_list[::-1]\n",
    "\n",
    "for i in range(n_ele):\n",
    "# for i in range(3):\n",
    "    fd_pt = os.path.join(ele_list[i][0], DATASET_SUFFIX, f\"{ele_list[i][1]}_{DATASET_SUFFIX}.pt\")\n",
    "    if not os.path.exists(fd_pt):\n",
    "        # logger.warning(f\"{fd_pt} does not exist\")\n",
    "        continue\n",
    "    data_pt = torch.load(fd_pt, weights_only=False)\n",
    "    _meta_group = data_pt[\"meta_group\"]\n",
    "    _data_group = data_pt[\"data_group\"]\n",
    "\n",
    "    n_day       = _meta_group[\"n_day\"]\n",
    "    n_ch        = _meta_group[\"n_ch\"]\n",
    "    n_valid_ch  = len(_data_group[\"Channels\"])\n",
    "\n",
    "\n",
    "    logger.info(f\"ELE [{i}/{n_ele}]: {ele_list[i][0]}\")\n",
    "\n",
    "    n_avaliable = n_avaliable + 1\n",
    "\n",
    "    # Iteration by channel\n",
    "    for j in _data_group['Channels']:\n",
    "        eis_seq = _data_group[j][\"eis_seq\"]\n",
    "        _ch_data = _data_group[j][\"chData\"]\n",
    "        _ch_data = _ch_data[eis_seq,:,:]\n",
    "        _ch_data_log = np.log(_ch_data[:,1,:] + 1j*_ch_data[:,2,:])\n",
    "        _ch_data[:,1,:] = np.real(_ch_data_log)\n",
    "        _ch_data[:,2,:] = np.imag(_ch_data_log)\n",
    "        if _ch_data.shape[2] == 5000:\n",
    "            _ch_data = np.hstack((_ch_data[:,1,freq_list],_ch_data[:,2,freq_list]))\n",
    "        else:\n",
    "            _ch_data = np.hstack((_ch_data[:,1,:],_ch_data[:,2,:]))\n",
    "        almost_data_list.append(_ch_data)\n",
    "        almost_start_list.append(_ch_data[0,:])\n",
    "\n",
    "\n",
    "\n",
    "        _ch_id = j\n",
    "\n",
    "        _id = [i, _ch_id] * np.shape(_ch_data)[0]\n",
    "        _id = np.array(_id).reshape(-1,2)\n",
    "\n",
    "        eis_cluster = _data_group[j]['eis_cluster']\n",
    "        _id = np.hstack((_id, eis_cluster.reshape(-1,1)))\n",
    "        almost_id_list.append(_id)\n",
    "        almost_start_id_list.append(_id[0,:])\n",
    "\n",
    "\n",
    "        # _ch_id = j\n",
    "\n",
    "        # _id = [i, _ch_id] * np.shape(_ch_data)[0]\n",
    "        # _id = np.array(_id).reshape(-1,2)\n",
    "        # almost_id_list.append(_id)\n",
    "        # almost_start_id_list.append(_id[0,:])\n",
    "\n",
    "almost_data_list = np.vstack(almost_data_list)\n",
    "almost_id_list = np.vstack(almost_id_list)\n",
    "almost_start_list = np.vstack(almost_start_list)\n",
    "almost_start_id_list = np.vstack(almost_start_id_list)\n",
    "\n",
    "logger.info(f\"Total {almost_data_list.shape[0]} data points from {n_avaliable} electrodes\")\n",
    "\n",
    "del data_pt, _meta_group, _data_group, _ch_data\n",
    "gc.collect()\n",
    "\n"
   ]
  },
  {
   "cell_type": "markdown",
   "id": "5de3bd3e",
   "metadata": {},
   "source": [
    "## PCA"
   ]
  },
  {
   "cell_type": "code",
   "execution_count": 8,
   "id": "75ce3d6d",
   "metadata": {},
   "outputs": [],
   "source": [
    "_pca_m = PCA(n_components = 10)\n",
    "_scale = StandardScaler()\n",
    "_data_norm = _scale.fit_transform(almost_data_list)\n",
    "_pca_data = _pca_m.fit_transform(_data_norm)\n",
    "\n",
    "_data_norm = _scale.transform(almost_start_list)\n",
    "_pca_start = _pca_m.transform(_data_norm)"
   ]
  },
  {
   "cell_type": "code",
   "execution_count": 9,
   "id": "60b4265e",
   "metadata": {},
   "outputs": [
    {
     "data": {
      "text/plain": [
       "Text(0.5, 1.0, 'PCA')"
      ]
     },
     "execution_count": 9,
     "metadata": {},
     "output_type": "execute_result"
    }
   ],
   "source": [
    "\n",
    "\n",
    "fig, axis = plt.subplots(1,1, figsize = (16,9))\n",
    "# axis.scatter(_pca_data[:,0],_pca_data[:,1], color = 'lightgray', s=0.05)\n",
    "plt.scatter(_pca_data[:,0],_pca_data[:,1],s=0.1)\n",
    "# plt.scatter(_pca_start[:,0],_pca_start[:,1],s=0.5)\n",
    "plt.title('PCA')\n"
   ]
  },
  {
   "cell_type": "code",
   "execution_count": 16,
   "id": "26d523c4",
   "metadata": {},
   "outputs": [],
   "source": [
    "# 获取每个主成分的解释方差比（即贡献率）\n",
    "explained_var = _pca_m.explained_variance_ratio_\n",
    "components = np.arange(1, len(explained_var) + 1)\n",
    "\n",
    "# 绘图\n",
    "plt.figure(figsize=(6, 6))\n",
    "bars = plt.bar(components, explained_var, color='skyblue')\n",
    "\n",
    "# 在每个柱子上标注数值（百分比形式）\n",
    "for bar, var in zip(bars, explained_var):\n",
    "    yval = bar.get_height()\n",
    "    plt.text(bar.get_x() + bar.get_width()/2, yval + 0.005, f'{var*100:.2f}%', \n",
    "             ha='center', va='bottom', fontsize=10)\n",
    "\n",
    "plt.xticks(components)\n",
    "plt.xlabel(\"Principal Component\")\n",
    "plt.ylabel(\"Explained Variance Ratio\")\n",
    "plt.title(\"PCA Explained Variance per Component\")\n",
    "plt.grid(axis='y', linestyle='--', alpha=0.5)\n",
    "plt.tight_layout()\n",
    "plt.show()"
   ]
  },
  {
   "cell_type": "markdown",
   "id": "f73c2fd4",
   "metadata": {},
   "source": [
    "## Plot & Save"
   ]
  },
  {
   "cell_type": "code",
   "execution_count": null,
   "id": "64686261",
   "metadata": {},
   "outputs": [],
   "source": [
    "\n",
    "SAVE_FLAG = False\n",
    "# manifold_fig_save_path = f\"D:/Baihm/EISNN/Archive/{DATASET_SUFFIX}/Manifold\"\n",
    "manifold_fig_save_path = f\"D:/Baihm/EISNN/Invivo/{DATASET_SUFFIX}/Manifold\"\n",
    "if SAVE_FLAG:\n",
    "    if not os.path.exists(manifold_fig_save_path):\n",
    "        os.makedirs(manifold_fig_save_path)\n",
    "\n",
    "\n",
    "\n",
    "uq_id_list = np.unique(almost_id_list[:,0])\n",
    "uq_id_max = np.max(uq_id_list)\n",
    "\n"
   ]
  },
  {
   "cell_type": "code",
   "execution_count": 85,
   "id": "4a38e622",
   "metadata": {},
   "outputs": [
    {
     "name": "stderr",
     "output_type": "stream",
     "text": [
      "\u001b[32m2025-05-16 22:20:27.575\u001b[0m | \u001b[1mINFO    \u001b[0m | \u001b[36m__main__\u001b[0m:\u001b[36m<module>\u001b[0m:\u001b[36m59\u001b[0m - \u001b[1m0/6 Saved\u001b[0m\n",
      "\u001b[32m2025-05-16 22:20:27.802\u001b[0m | \u001b[1mINFO    \u001b[0m | \u001b[36m__main__\u001b[0m:\u001b[36m<module>\u001b[0m:\u001b[36m59\u001b[0m - \u001b[1m1/6 Saved\u001b[0m\n",
      "\u001b[32m2025-05-16 22:20:28.046\u001b[0m | \u001b[1mINFO    \u001b[0m | \u001b[36m__main__\u001b[0m:\u001b[36m<module>\u001b[0m:\u001b[36m59\u001b[0m - \u001b[1m2/6 Saved\u001b[0m\n",
      "\u001b[32m2025-05-16 22:20:28.469\u001b[0m | \u001b[1mINFO    \u001b[0m | \u001b[36m__main__\u001b[0m:\u001b[36m<module>\u001b[0m:\u001b[36m59\u001b[0m - \u001b[1m3/6 Saved\u001b[0m\n",
      "\u001b[32m2025-05-16 22:20:28.733\u001b[0m | \u001b[1mINFO    \u001b[0m | \u001b[36m__main__\u001b[0m:\u001b[36m<module>\u001b[0m:\u001b[36m59\u001b[0m - \u001b[1m4/6 Saved\u001b[0m\n",
      "\u001b[32m2025-05-16 22:20:28.894\u001b[0m | \u001b[1mINFO    \u001b[0m | \u001b[36m__main__\u001b[0m:\u001b[36m<module>\u001b[0m:\u001b[36m59\u001b[0m - \u001b[1m5/6 Saved\u001b[0m\n"
     ]
    }
   ],
   "source": [
    "_pca_data_plot = np.array(_pca_data[:,:])\n",
    "# _pca_data_plot[:,0] = _pca_data[:,1]\n",
    "# _pca_data_plot[:,1] = _pca_data[:,2]\n",
    "\n",
    "cmap = plt.colormaps.get_cmap(\"rainbow_r\")\n",
    "\n",
    "for i in range(len(uq_id_list)):\n",
    "# for i in range(0,2):\n",
    "\n",
    "    fig, axis = plt.subplots(1,1, figsize = (16,9))\n",
    "    axis.scatter(_pca_data_plot[:,0],_pca_data_plot[:,1], color = 'lightgray', s=0.5)\n",
    "    # plt.scatter(_pca_start[:,0],_pca_start[:,1],s=0.1)\n",
    "\n",
    "\n",
    "    _ele_id = uq_id_list[i]\n",
    "\n",
    "    ele_mask = almost_id_list[:,0] == _ele_id\n",
    "    _ch_list = np.unique(almost_id_list[ele_mask,1])\n",
    "\n",
    "\n",
    "    for j in _ch_list:\n",
    "        _ch_mask = almost_id_list[:,:2] == [_ele_id,j]\n",
    "        _ch_mask = _ch_mask[:,0] & _ch_mask[:,1]\n",
    "        _ch_data = _pca_data_plot[_ch_mask,:2]\n",
    "\n",
    "        # _c = cmap(_ele_id / uq_id_max)\n",
    "        # axis.plot(_ch_data[:,0],_ch_data[:,1], color = _c, alpha = 0.5)\n",
    "\n",
    "        _cluster_list = np.unique(almost_id_list[_ch_mask,2])\n",
    "\n",
    "        _seq_all_len = almost_id_list[_ch_mask,2].shape[0]\n",
    "        _seg_poi = 0\n",
    "\n",
    "        for k in _cluster_list:\n",
    "            _cluster_mask = almost_id_list[:,:] == [_ele_id,j,k]\n",
    "            _cluster_mask = _cluster_mask[:,0] & _cluster_mask[:,1] & _cluster_mask[:,2]\n",
    "            _cluster_data = _pca_data_plot[_cluster_mask,:2]\n",
    "\n",
    "            _seg_data = _cluster_data.reshape(-1,1,2)\n",
    "            _seg_data = np.concatenate([_seg_data[:-1], _seg_data[1:]], axis=1)\n",
    "\n",
    "            _seg_len = _cluster_data.shape[0]\n",
    "            \n",
    "            color_range = np.linspace(_seg_poi/_seq_all_len, (_seg_poi+_seg_len)/_seq_all_len, _seg_len - 1)\n",
    "            colors = cmap(color_range)\n",
    "\n",
    "            _seg_poi = _seg_poi+_seg_len\n",
    "            lc = LineCollection(_seg_data, colors=colors, linewidth=2,alpha=0.5)\n",
    "            axis.add_collection(lc)\n",
    "\n",
    "    axis.set_title(f\"{ele_list[int(_ele_id)][1]}_Manifold\")\n",
    "    if SAVE_FLAG:\n",
    "        _fig_name = f\"{ele_list[int(_ele_id)][1]}_Manifold.png\"\n",
    "        _fig_save_path = os.path.join(manifold_fig_save_path, _fig_name)\n",
    "\n",
    "        fig.savefig(_fig_save_path)\n",
    "        plt.close(fig) \n",
    "\n",
    "        logger.info(f\"{i}/{len(uq_id_list)} Saved\")\n",
    "    else:\n",
    "        fig.show()\n",
    "\n"
   ]
  },
  {
   "cell_type": "code",
   "execution_count": 64,
   "id": "efa36ee7",
   "metadata": {},
   "outputs": [
    {
     "data": {
      "text/plain": [
       "(98690, 3)"
      ]
     },
     "execution_count": 64,
     "metadata": {},
     "output_type": "execute_result"
    }
   ],
   "source": [
    "almost_id_list.shape"
   ]
  },
  {
   "cell_type": "markdown",
   "id": "f5e2ff3e",
   "metadata": {},
   "source": [
    "## Plot All Manifold"
   ]
  },
  {
   "cell_type": "code",
   "execution_count": 15,
   "id": "1b7d04dc",
   "metadata": {},
   "outputs": [],
   "source": [
    "\n",
    "\n",
    "\n",
    "\n",
    "fig, axis = plt.subplots(1,1, figsize = (16,9))\n",
    "axis.scatter(_pca_data[:,0],_pca_data[:,1], color = 'lightgray', s=0.05)\n",
    "# plt.scatter(_pca_start[:,0],_pca_start[:,1],s=0.1)\n",
    "\n",
    "\n",
    "\n",
    "uq_id_list = np.unique(almost_id_list[:,0])\n",
    "uq_id_max = np.max(uq_id_list)\n",
    "\n",
    "\n",
    "cmap = plt.colormaps.get_cmap(\"rainbow_r\")\n",
    "\n",
    "for i in range(len(uq_id_list)):\n",
    "# for i in range(0,6):\n",
    "    _ele_id = uq_id_list[i]\n",
    "\n",
    "    ele_mask = almost_id_list[:,0] == _ele_id\n",
    "    _ch_list = np.unique(almost_id_list[ele_mask,1])\n",
    "\n",
    "\n",
    "    for j in _ch_list:\n",
    "        _ch_mask = almost_id_list[:,:2] == [_ele_id,j]\n",
    "        _ch_mask = _ch_mask[:,0] & _ch_mask[:,1]\n",
    "        _ch_data = _pca_data[_ch_mask,:2]\n",
    "\n",
    "        # _c = cmap(_ele_id / uq_id_max)\n",
    "        # axis.plot(_ch_data[:,0],_ch_data[:,1], color = _c, alpha = 0.5)\n",
    "\n",
    "        _cluster_list = np.unique(almost_id_list[_ch_mask,2])\n",
    "\n",
    "        _seq_all_len = almost_id_list[_ch_mask,2].shape[0]\n",
    "        _seg_poi = 0\n",
    "\n",
    "        for k in _cluster_list:\n",
    "            _cluster_mask = almost_id_list[:,:] == [_ele_id,j,k]\n",
    "            _cluster_mask = _cluster_mask[:,0] & _cluster_mask[:,1] & _cluster_mask[:,2]\n",
    "            _cluster_data = _pca_data[_cluster_mask,:2]\n",
    "\n",
    "            _seg_data = _cluster_data.reshape(-1,1,2)\n",
    "            _seg_data = np.concatenate([_seg_data[:-1], _seg_data[1:]], axis=1)\n",
    "\n",
    "            _seg_len = _cluster_data.shape[0]\n",
    "            \n",
    "            color_range = np.linspace(_seg_poi/_seq_all_len, (_seg_poi+_seg_len)/_seq_all_len, _seg_len - 1)\n",
    "            colors = cmap(color_range)\n",
    "\n",
    "            _seg_poi = _seg_poi+_seg_len\n",
    "            lc = LineCollection(_seg_data, colors=colors, linewidth=1, alpha = 0.01)\n",
    "            axis.add_collection(lc)\n",
    "\n",
    "fig.show()\n",
    "\n"
   ]
  },
  {
   "cell_type": "markdown",
   "id": "984d711d",
   "metadata": {},
   "source": [
    "# Dimensionality"
   ]
  },
  {
   "cell_type": "markdown",
   "id": "84298319",
   "metadata": {},
   "source": [
    "## DD"
   ]
  },
  {
   "cell_type": "code",
   "execution_count": 24,
   "id": "a3ad613f",
   "metadata": {},
   "outputs": [
    {
     "name": "stderr",
     "output_type": "stream",
     "text": [
      "\u001b[32m2025-05-16 23:12:31.571\u001b[0m | \u001b[1mINFO    \u001b[0m | \u001b[36m__main__\u001b[0m:\u001b[36m<module>\u001b[0m:\u001b[36m32\u001b[0m - \u001b[1mPCA distance matrix shape: (9406, 9406)\u001b[0m\n",
      "\u001b[32m2025-05-16 23:13:02.672\u001b[0m | \u001b[1mINFO    \u001b[0m | \u001b[36m__main__\u001b[0m:\u001b[36m<module>\u001b[0m:\u001b[36m32\u001b[0m - \u001b[1mt-SNE distance matrix shape: (9406, 9406)\u001b[0m\n",
      "\u001b[32m2025-05-16 23:13:27.094\u001b[0m | \u001b[1mINFO    \u001b[0m | \u001b[36m__main__\u001b[0m:\u001b[36m<module>\u001b[0m:\u001b[36m32\u001b[0m - \u001b[1mIsomap distance matrix shape: (9406, 9406)\u001b[0m\n",
      "\u001b[32m2025-05-16 23:13:28.863\u001b[0m | \u001b[1mINFO    \u001b[0m | \u001b[36m__main__\u001b[0m:\u001b[36m<module>\u001b[0m:\u001b[36m32\u001b[0m - \u001b[1mLLE distance matrix shape: (9406, 9406)\u001b[0m\n"
     ]
    }
   ],
   "source": [
    "import numpy as np\n",
    "import matplotlib.pyplot as plt\n",
    "from sklearn.decomposition import PCA\n",
    "from sklearn.manifold import TSNE, Isomap, LocallyLinearEmbedding, MDS\n",
    "# import umap.umap_ as umap  # 请确保安装了 umap-learn\n",
    "\n",
    "# np.random.seed(42)\n",
    "data_dd = np.array(almost_data_list)\n",
    "\n",
    "_order = 3\n",
    "methods = {\n",
    "    'PCA': PCA(n_components=_order),\n",
    "    't-SNE': TSNE(n_components=_order, perplexity=25, random_state=42),  # perplexity 设置为 5\n",
    "    'Isomap': Isomap(n_neighbors=10, n_components=_order),                    \n",
    "    'LLE': LocallyLinearEmbedding(n_components=_order, random_state=42),\n",
    "    # 'MDS': MDS(n_components=_order, random_state=42),         # Cost \n",
    "    # 'UMAP': umap.UMAP(n_components=_order, random_state=42)   # Cost \n",
    "}\n",
    "\n",
    "embeddings = {}\n",
    "emb_dist = {}\n",
    "for name, method in methods.items():\n",
    "    _scale = StandardScaler()\n",
    "    _data_norm = _scale.fit_transform(data_dd)\n",
    "    embedding = method.fit_transform(_data_norm)\n",
    "    embeddings[name] = embedding\n",
    "    _x = embedding[:,0].flatten()\n",
    "    _y = embedding[:,1].flatten()\n",
    "\n",
    "    emb_dist[name] = np.sqrt((_x[:, np.newaxis] - _x[np.newaxis, :])**2 + \n",
    "                         (_y[:, np.newaxis] - _y[np.newaxis, :])**2)\n",
    "    logger.info(f\"{name} distance matrix shape: {emb_dist[name].shape}\")\n",
    "\n"
   ]
  },
  {
   "cell_type": "markdown",
   "id": "7d0040d5",
   "metadata": {},
   "source": [
    "## DD Plot"
   ]
  },
  {
   "cell_type": "code",
   "execution_count": 25,
   "id": "b8996d25",
   "metadata": {},
   "outputs": [],
   "source": [
    "\n",
    "fig, axis = plt.subplots(2,4,figsize=(12,6))\n",
    "\n",
    "\n",
    "for i, (name, emb) in enumerate(embeddings.items()):\n",
    "    _x = emb[:,0].flatten()\n",
    "    _y = emb[:,1].flatten()\n",
    "\n",
    "    _dist = np.sqrt((_x[:, np.newaxis] - _x[np.newaxis, :])**2 + \n",
    "                         (_y[:, np.newaxis] - _y[np.newaxis, :])**2)\n",
    "    # _dist = emb_dist[name]\n",
    "\n",
    "    axis[np.int16(i/2),(i%2)*2].scatter(emb[:, 0], emb[:, 1], c=np.arange(np.shape(almost_data_list)[0]), cmap='rainbow_r', s=1)\n",
    "    axis[np.int16(i/2),(i%2)*2].set_title(name)\n",
    "\n",
    "    s = axis[np.int16(i/2),(i%2)*2+1].imshow(_dist, cmap='coolwarm', interpolation='nearest')\n",
    "    fig.colorbar(s, ax=axis[np.int16(i/2),(i%2)*2+1])\n",
    "plt.tight_layout()\n",
    "plt.show()\n"
   ]
  },
  {
   "cell_type": "markdown",
   "id": "52a32bc1",
   "metadata": {},
   "source": [
    "## Manifold Plot"
   ]
  },
  {
   "cell_type": "code",
   "execution_count": 36,
   "id": "b73c46eb",
   "metadata": {},
   "outputs": [],
   "source": [
    "\n",
    "uq_id_list = np.unique(almost_id_list[:,0])\n",
    "uq_id_max = np.max(uq_id_list)\n",
    "\n",
    "\n",
    "\n",
    "# _pca_data_plot = np.array(embeddings['PCA'])\n",
    "_pca_data_plot = np.array(embeddings['t-SNE'])\n",
    "# _pca_data_plot = np.array(embeddings['Isomap'])\n",
    "# _pca_data_plot = np.array(embeddings['LLE'])\n",
    "# _pca_data_plot[:,0] = _pca_data[:,1]\n",
    "# _pca_data_plot[:,1] = _pca_data[:,2]\n",
    "\n",
    "cmap = plt.colormaps.get_cmap(\"rainbow_r\")\n",
    "\n",
    "for i in range(len(uq_id_list)):\n",
    "# for i in range(0,2):\n",
    "\n",
    "    fig, axis = plt.subplots(1,1, figsize = (16,9))\n",
    "    axis.scatter(_pca_data_plot[:,0],_pca_data_plot[:,1], color = 'lightgray', s=0.5)\n",
    "    # plt.scatter(_pca_start[:,0],_pca_start[:,1],s=0.1)\n",
    "\n",
    "\n",
    "    _ele_id = uq_id_list[i]\n",
    "\n",
    "    ele_mask = almost_id_list[:,0] == _ele_id\n",
    "    _ch_list = np.unique(almost_id_list[ele_mask,1])\n",
    "\n",
    "\n",
    "    for j in _ch_list:\n",
    "        _ch_mask = almost_id_list[:,:2] == [_ele_id,j]\n",
    "        _ch_mask = _ch_mask[:,0] & _ch_mask[:,1]\n",
    "        _ch_data = _pca_data_plot[_ch_mask,:2]\n",
    "\n",
    "        # _c = cmap(_ele_id / uq_id_max)\n",
    "        # axis.plot(_ch_data[:,0],_ch_data[:,1], color = _c, alpha = 0.5)\n",
    "\n",
    "        _cluster_list = np.unique(almost_id_list[_ch_mask,2])\n",
    "\n",
    "        _seq_all_len = almost_id_list[_ch_mask,2].shape[0]\n",
    "        _seg_poi = 0\n",
    "\n",
    "        for k in _cluster_list:\n",
    "            _cluster_mask = almost_id_list[:,:] == [_ele_id,j,k]\n",
    "            _cluster_mask = _cluster_mask[:,0] & _cluster_mask[:,1] & _cluster_mask[:,2]\n",
    "            _cluster_data = _pca_data_plot[_cluster_mask,:2]\n",
    "\n",
    "            _seg_data = _cluster_data.reshape(-1,1,2)\n",
    "            _seg_data = np.concatenate([_seg_data[:-1], _seg_data[1:]], axis=1)\n",
    "\n",
    "            _seg_len = _cluster_data.shape[0]\n",
    "            \n",
    "            color_range = np.linspace(_seg_poi/_seq_all_len, (_seg_poi+_seg_len)/_seq_all_len, _seg_len - 1)\n",
    "            colors = cmap(color_range)\n",
    "\n",
    "            _seg_poi = _seg_poi+_seg_len\n",
    "            lc = LineCollection(_seg_data, colors=colors, linewidth=2,alpha=0.5)\n",
    "            axis.add_collection(lc)\n",
    "\n",
    "    axis.set_title(f\"{ele_list[int(_ele_id)][1]}_Manifold\")\n",
    "    fig.show()\n",
    "    # break\n",
    "\n"
   ]
  }
 ],
 "metadata": {
  "kernelspec": {
   "display_name": "EISNN",
   "language": "python",
   "name": "python3"
  },
  "language_info": {
   "codemirror_mode": {
    "name": "ipython",
    "version": 3
   },
   "file_extension": ".py",
   "mimetype": "text/x-python",
   "name": "python",
   "nbconvert_exporter": "python",
   "pygments_lexer": "ipython3",
   "version": "3.11.11"
  }
 },
 "nbformat": 4,
 "nbformat_minor": 5
}
