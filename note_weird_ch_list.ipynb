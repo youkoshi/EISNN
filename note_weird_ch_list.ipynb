{
 "cells": [
  {
   "cell_type": "code",
   "execution_count": null,
   "id": "b254d7d1",
   "metadata": {},
   "outputs": [],
   "source": [
    "weird_ele_list = ['01067094']"
   ]
  }
 ],
 "metadata": {
  "language_info": {
   "name": "python"
  }
 },
 "nbformat": 4,
 "nbformat_minor": 5
}
